{
 "cells": [
  {
   "cell_type": "code",
   "execution_count": 2,
   "metadata": {},
   "outputs": [],
   "source": [
    "import torch\n"
   ]
  },
  {
   "cell_type": "code",
   "execution_count": 3,
   "metadata": {},
   "outputs": [
    {
     "name": "stdout",
     "output_type": "stream",
     "text": [
      "torch.arange(4):  tensor([0, 1, 2, 3])\n",
      "P[torch.arange(4), c]:  tensor([0.7734, 0.5093, 0.0610, 0.3826])\n",
      "1.1723309755325317\n"
     ]
    }
   ],
   "source": [
    "P = torch.tensor([[0.1955, 0.0311, 0.7734],\n",
    " [0.5093, 0.174, 0.3167],\n",
    " [0.1309, 0.061, 0.8081],\n",
    " [0.3826, 0.5054, 0.112]])\n",
    "\n",
    "c = torch.tensor([2,0,1,0], dtype=torch.long) #С учетом индексов, начинающихся с 0\n",
    "# Вектор от 0 до заданного числа\n",
    "print('torch.arange(4): ', torch.arange(4))\n",
    "# Мы можем индексировать тензоры списками или тензорами из целых чисел. Например tensor([5,9,1,2])[[0,3,0]] == tensor([5,2,5])\n",
    "# В случае с матрицами, мы можем индексировать их двумя списками индексов одинакового размера\n",
    "print('P[torch.arange(4), c]: ', P[torch.arange(4), c])\n",
    "L = -torch.mean(torch.log(P[torch.arange(4), c]))\n",
    "print(L.item())"
   ]
  },
  {
   "cell_type": "code",
   "execution_count": 4,
   "metadata": {},
   "outputs": [],
   "source": [
    "from sklearn.datasets import fetch_openml\n"
   ]
  },
  {
   "cell_type": "code",
   "execution_count": 5,
   "metadata": {},
   "outputs": [],
   "source": [
    "covertype = fetch_openml(data_id=180)\n"
   ]
  },
  {
   "cell_type": "code",
   "execution_count": 6,
   "metadata": {},
   "outputs": [
    {
     "name": "stdout",
     "output_type": "stream",
     "text": [
      "<class 'sklearn.utils.Bunch'> {'data': array([[2754.,  146.,    5., ...,    0.,    0.,    0.],\n",
      "       [3219.,   21.,    8., ...,    0.,    0.,    0.],\n",
      "       [2965.,  337.,   16., ...,    0.,    0.,    0.],\n",
      "       ...,\n",
      "       [2232.,  141.,   32., ...,    0.,    0.,    0.],\n",
      "       [2221.,  163.,   27., ...,    0.,    0.,    0.],\n",
      "       [2221.,  150.,   33., ...,    0.,    0.,    0.]]), 'target': array(['Lodgepole_Pine', 'Spruce_Fir', 'Spruce_Fir', ...,\n",
      "       'Cottonwood_Willow', 'Cottonwood_Willow', 'Cottonwood_Willow'],\n",
      "      dtype=object), 'feature_names': ['elevation', 'aspect', 'slope', 'horizontal_distance_to_hydrology', 'Vertical_Distance_To_Hydrology', 'Horizontal_Distance_To_Roadways', 'Hillshade_9am', 'Hillshade_Noon', 'Hillshade_3pm', 'Horizontal_Distance_To_Fire_Points', 'wilderness_area1', 'wilderness_area2', 'wilderness_area3', 'wilderness_area4', 'soil_type_1', 'soil_type_2', 'soil_type_3', 'soil_type_4', 'soil_type_5', 'soil_type_6', 'soil_type_7', 'soil_type_8', 'soil_type_9', 'soil_type_10', 'soil_type_11', 'soil_type_12', 'soil_type_13', 'soil_type_14', 'soil_type_15', 'soil_type_16', 'soil_type_17', 'soil_type_18', 'soil_type_19', 'soil_type_20', 'soil_type_21', 'soil_type_22', 'soil_type_23', 'soil_type_24', 'soil_type_25', 'soil_type_26', 'soil_type_27', 'soil_type_28', 'soil_type_29', 'soil_type_30', 'soil_type_31', 'soil_type_32', 'soil_type_33', 'soil_type_34', 'soil_type_35', 'soil_type_36', 'soil_type_37', 'soil_type_38', 'soil_type_39', 'soil_type_40'], 'DESCR': '**Author**: Jock A. Blackard, Dr. Denis J. Dean, Dr. Charles W. Anderson  \\n**Source**: Unknown\\n\\n**Note: This is a 19% subsample from the original UCI dataset (see version 4). The origin is currently not clear.**\\n\\n**Covertype**  \\nPredicting forest cover type from cartographic variables only (no remotely sensed data). The actual forest cover type for a given observation (30 x 30 meter cell) was determined from US Forest Service (USFS) Region 2 Resource Information System &#40;RIS&#41; data. Independent variables were derived from data originally obtained from US Geological Survey (USGS) and USFS data. Data is in raw form (not scaled) and contains binary (0 or 1) columns of data for qualitative independent variables (wilderness areas and soil types). \\n\\nThis study area includes four wilderness areas located in the Roosevelt National Forest of northern Colorado. These areas represent forests with minimal human-caused disturbances, so that existing forest cover types are more a result of ecological processes rather than forest management practices. \\n\\nSome background information for these four wilderness areas: Neota (area 2) probably has the highest mean elevational value of the 4 wilderness areas. Rawah (area 1) and Comanche Peak (area 3) would have a lower mean elevational value, while Cache la Poudre (area 4) would have the lowest mean elevational value. \\n\\nAs for primary major tree species in these areas, Neota would have spruce/fir (type 1), while Rawah and Comanche Peak would probably have lodgepole pine (type 2) as their primary species, followed by spruce/fir and aspen (type 5). Cache la Poudre would tend to have Ponderosa pine (type 3), Douglas-fir (type 6), and cottonwood/willow (type 4). \\n\\nThe Rawah and Comanche Peak areas would tend to be more typical of the overall dataset than either the Neota or Cache la Poudre, due to their assortment of tree species and range of predictive variable values (elevation, etc.) Cache la Poudre would probably be more unique than the others, due to its relatively low elevation range and species composition.\\n\\nAttribute Information:  \\nGiven is the attribute name, attribute type, the measurement unit and a brief description. The forest cover type is the classification problem. The order of this listing corresponds to the order of numerals along the rows of the database. \\n>\\nName / Data Type / Measurement / Description  \\nElevation / quantitative /meters / Elevation in meters  \\nAspect / quantitative / azimuth / Aspect in degrees azimuth  \\nSlope / quantitative / degrees / Slope in degrees  \\nHorizontal_Distance_To_Hydrology / quantitative / meters / Horz Dist to nearest surface water features  \\nVertical_Distance_To_Hydrology / quantitative / meters / Vert Dist to nearest surface water features  \\nHorizontal_Distance_To_Roadways / quantitative / meters / Horz Dist to nearest roadway  \\nHillshade_9am / quantitative / 0 to 255 index / Hillshade index at 9am, summer solstice  \\nHillshade_Noon / quantitative / 0 to 255 index / Hillshade index at noon, summer solstice  \\nHillshade_3pm / quantitative / 0 to 255 index / Hillshade index at 3pm, summer solstice  \\nHorizontal_Distance_To_Fire_Points / quantitative / meters / Horz Dist to nearest wildfire ignition points  \\nWilderness_Area (4 binary columns) / qualitative / 0 (absence) or 1 (presence) / Wilderness area designation  \\nSoil_Type (40 binary columns) / qualitative / 0 (absence) or 1 (presence) / Soil Type designation  \\nCover_Type (7 types) / integer / 1 to 7 / Forest Cover Type designation \\n\\n\\nRelevant Papers:  \\n- Blackard, Jock A. and Denis J. Dean. 2000. \"Comparative Accuracies of Artificial Neural Networks and Discriminant Analysis in Predicting Forest Cover Types from Cartographic Variables.\" Computers and Electronics in Agriculture 24(3):131-151. \\n- Blackard, Jock A. and Denis J. Dean. 1998. \"Comparative Accuracies of Neural Networks and Discriminant Analysis in Predicting Forest Cover Types from Cartographic Variables.\" Second Southern Forestry GIS Conference. University of Georgia. Athens, GA. Pages 189-199. \\n- Blackard, Jock A. 1998. \"Comparison of Neural Networks and Discriminant Analysis in Predicting Forest Cover Types.\" Ph.D. dissertation. Department of Forest Sciences. Colorado State University. Fort Collins, Colorado. 165 pages.\\n\\nDownloaded from openml.org.', 'details': {'id': '180', 'name': 'covertype', 'version': '1', 'format': 'ARFF', 'upload_date': '2014-04-23T13:14:37', 'licence': 'Public', 'url': 'https://www.openml.org/data/v1/download/3615/covertype.arff', 'file_id': '3615', 'default_target_attribute': 'class', 'version_label': '1', 'tag': ['study_10', 'uci'], 'visibility': 'public', 'status': 'active', 'processing_date': '2018-10-03 21:16:14', 'md5_checksum': '12c4ba2521efb9c92c1aeeee4c25e353'}, 'categories': {'soil_type_1': ['0', '1'], 'soil_type_2': ['0', '1'], 'soil_type_3': ['0', '1'], 'soil_type_4': ['0', '1'], 'soil_type_5': ['0', '1'], 'soil_type_6': ['0', '1'], 'soil_type_7': ['0', '1'], 'soil_type_8': ['0', '1'], 'soil_type_9': ['0', '1'], 'soil_type_10': ['0', '1'], 'soil_type_11': ['0', '1'], 'soil_type_12': ['0', '1'], 'soil_type_13': ['0', '1'], 'soil_type_14': ['0', '1'], 'soil_type_15': ['0', '1'], 'soil_type_16': ['0', '1'], 'soil_type_17': ['0', '1'], 'soil_type_18': ['0', '1'], 'soil_type_19': ['0', '1'], 'soil_type_20': ['0', '1'], 'soil_type_21': ['0', '1'], 'soil_type_22': ['0', '1'], 'soil_type_23': ['0', '1'], 'soil_type_24': ['0', '1'], 'soil_type_25': ['0', '1'], 'soil_type_26': ['0', '1'], 'soil_type_27': ['0', '1'], 'soil_type_28': ['0', '1'], 'soil_type_29': ['0', '1'], 'soil_type_30': ['0', '1'], 'soil_type_31': ['0', '1'], 'soil_type_32': ['0', '1'], 'soil_type_33': ['0', '1'], 'soil_type_34': ['0', '1'], 'soil_type_35': ['0', '1'], 'soil_type_36': ['0', '1'], 'soil_type_37': ['0', '1'], 'soil_type_38': ['0', '1'], 'soil_type_39': ['0', '1'], 'soil_type_40': ['0', '1']}, 'url': 'https://www.openml.org/d/180'}\n"
     ]
    }
   ],
   "source": [
    "print(type(covertype), covertype)\n"
   ]
  },
  {
   "cell_type": "code",
   "execution_count": 7,
   "metadata": {},
   "outputs": [],
   "source": [
    "import numpy as np # linear algebra\n",
    "import pandas as pd # data processing, CSV file I/O (e.g. pd.read_csv)"
   ]
  },
  {
   "cell_type": "code",
   "execution_count": 8,
   "metadata": {},
   "outputs": [],
   "source": [
    "cover_df = pd.DataFrame(data=covertype.data, columns=covertype.feature_names)"
   ]
  },
  {
   "cell_type": "code",
   "execution_count": 9,
   "metadata": {},
   "outputs": [
    {
     "data": {
      "text/html": [
       "<div>\n",
       "<style scoped>\n",
       "    .dataframe tbody tr th:only-of-type {\n",
       "        vertical-align: middle;\n",
       "    }\n",
       "\n",
       "    .dataframe tbody tr th {\n",
       "        vertical-align: top;\n",
       "    }\n",
       "\n",
       "    .dataframe thead th {\n",
       "        text-align: right;\n",
       "    }\n",
       "</style>\n",
       "<table border=\"1\" class=\"dataframe\">\n",
       "  <thead>\n",
       "    <tr style=\"text-align: right;\">\n",
       "      <th></th>\n",
       "      <th>elevation</th>\n",
       "      <th>aspect</th>\n",
       "      <th>slope</th>\n",
       "      <th>horizontal_distance_to_hydrology</th>\n",
       "      <th>Vertical_Distance_To_Hydrology</th>\n",
       "      <th>Horizontal_Distance_To_Roadways</th>\n",
       "      <th>Hillshade_9am</th>\n",
       "      <th>Hillshade_Noon</th>\n",
       "      <th>Hillshade_3pm</th>\n",
       "      <th>Horizontal_Distance_To_Fire_Points</th>\n",
       "      <th>...</th>\n",
       "      <th>soil_type_31</th>\n",
       "      <th>soil_type_32</th>\n",
       "      <th>soil_type_33</th>\n",
       "      <th>soil_type_34</th>\n",
       "      <th>soil_type_35</th>\n",
       "      <th>soil_type_36</th>\n",
       "      <th>soil_type_37</th>\n",
       "      <th>soil_type_38</th>\n",
       "      <th>soil_type_39</th>\n",
       "      <th>soil_type_40</th>\n",
       "    </tr>\n",
       "  </thead>\n",
       "  <tbody>\n",
       "    <tr>\n",
       "      <th>72206</th>\n",
       "      <td>2919.0</td>\n",
       "      <td>35.0</td>\n",
       "      <td>17.0</td>\n",
       "      <td>60.0</td>\n",
       "      <td>0.0</td>\n",
       "      <td>5377.0</td>\n",
       "      <td>216.0</td>\n",
       "      <td>200.0</td>\n",
       "      <td>114.0</td>\n",
       "      <td>3997.0</td>\n",
       "      <td>...</td>\n",
       "      <td>0.0</td>\n",
       "      <td>0.0</td>\n",
       "      <td>0.0</td>\n",
       "      <td>0.0</td>\n",
       "      <td>0.0</td>\n",
       "      <td>0.0</td>\n",
       "      <td>0.0</td>\n",
       "      <td>0.0</td>\n",
       "      <td>0.0</td>\n",
       "      <td>0.0</td>\n",
       "    </tr>\n",
       "    <tr>\n",
       "      <th>17302</th>\n",
       "      <td>2774.0</td>\n",
       "      <td>327.0</td>\n",
       "      <td>25.0</td>\n",
       "      <td>297.0</td>\n",
       "      <td>145.0</td>\n",
       "      <td>1706.0</td>\n",
       "      <td>152.0</td>\n",
       "      <td>204.0</td>\n",
       "      <td>187.0</td>\n",
       "      <td>1419.0</td>\n",
       "      <td>...</td>\n",
       "      <td>0.0</td>\n",
       "      <td>0.0</td>\n",
       "      <td>0.0</td>\n",
       "      <td>0.0</td>\n",
       "      <td>0.0</td>\n",
       "      <td>0.0</td>\n",
       "      <td>0.0</td>\n",
       "      <td>0.0</td>\n",
       "      <td>0.0</td>\n",
       "      <td>0.0</td>\n",
       "    </tr>\n",
       "    <tr>\n",
       "      <th>20621</th>\n",
       "      <td>3326.0</td>\n",
       "      <td>11.0</td>\n",
       "      <td>15.0</td>\n",
       "      <td>365.0</td>\n",
       "      <td>87.0</td>\n",
       "      <td>3300.0</td>\n",
       "      <td>202.0</td>\n",
       "      <td>208.0</td>\n",
       "      <td>140.0</td>\n",
       "      <td>2382.0</td>\n",
       "      <td>...</td>\n",
       "      <td>0.0</td>\n",
       "      <td>1.0</td>\n",
       "      <td>0.0</td>\n",
       "      <td>0.0</td>\n",
       "      <td>0.0</td>\n",
       "      <td>0.0</td>\n",
       "      <td>0.0</td>\n",
       "      <td>0.0</td>\n",
       "      <td>0.0</td>\n",
       "      <td>0.0</td>\n",
       "    </tr>\n",
       "    <tr>\n",
       "      <th>39840</th>\n",
       "      <td>2895.0</td>\n",
       "      <td>18.0</td>\n",
       "      <td>10.0</td>\n",
       "      <td>108.0</td>\n",
       "      <td>6.0</td>\n",
       "      <td>4191.0</td>\n",
       "      <td>212.0</td>\n",
       "      <td>219.0</td>\n",
       "      <td>143.0</td>\n",
       "      <td>3032.0</td>\n",
       "      <td>...</td>\n",
       "      <td>0.0</td>\n",
       "      <td>0.0</td>\n",
       "      <td>0.0</td>\n",
       "      <td>0.0</td>\n",
       "      <td>0.0</td>\n",
       "      <td>0.0</td>\n",
       "      <td>0.0</td>\n",
       "      <td>0.0</td>\n",
       "      <td>0.0</td>\n",
       "      <td>0.0</td>\n",
       "    </tr>\n",
       "    <tr>\n",
       "      <th>1369</th>\n",
       "      <td>2361.0</td>\n",
       "      <td>68.0</td>\n",
       "      <td>13.0</td>\n",
       "      <td>258.0</td>\n",
       "      <td>59.0</td>\n",
       "      <td>1354.0</td>\n",
       "      <td>233.0</td>\n",
       "      <td>214.0</td>\n",
       "      <td>112.0</td>\n",
       "      <td>319.0</td>\n",
       "      <td>...</td>\n",
       "      <td>0.0</td>\n",
       "      <td>0.0</td>\n",
       "      <td>0.0</td>\n",
       "      <td>0.0</td>\n",
       "      <td>0.0</td>\n",
       "      <td>0.0</td>\n",
       "      <td>0.0</td>\n",
       "      <td>0.0</td>\n",
       "      <td>0.0</td>\n",
       "      <td>0.0</td>\n",
       "    </tr>\n",
       "    <tr>\n",
       "      <th>4279</th>\n",
       "      <td>2267.0</td>\n",
       "      <td>125.0</td>\n",
       "      <td>23.0</td>\n",
       "      <td>150.0</td>\n",
       "      <td>79.0</td>\n",
       "      <td>1253.0</td>\n",
       "      <td>251.0</td>\n",
       "      <td>216.0</td>\n",
       "      <td>79.0</td>\n",
       "      <td>1045.0</td>\n",
       "      <td>...</td>\n",
       "      <td>0.0</td>\n",
       "      <td>0.0</td>\n",
       "      <td>0.0</td>\n",
       "      <td>0.0</td>\n",
       "      <td>0.0</td>\n",
       "      <td>0.0</td>\n",
       "      <td>0.0</td>\n",
       "      <td>0.0</td>\n",
       "      <td>0.0</td>\n",
       "      <td>0.0</td>\n",
       "    </tr>\n",
       "    <tr>\n",
       "      <th>65882</th>\n",
       "      <td>3265.0</td>\n",
       "      <td>18.0</td>\n",
       "      <td>4.0</td>\n",
       "      <td>300.0</td>\n",
       "      <td>30.0</td>\n",
       "      <td>4308.0</td>\n",
       "      <td>217.0</td>\n",
       "      <td>231.0</td>\n",
       "      <td>152.0</td>\n",
       "      <td>960.0</td>\n",
       "      <td>...</td>\n",
       "      <td>0.0</td>\n",
       "      <td>0.0</td>\n",
       "      <td>0.0</td>\n",
       "      <td>0.0</td>\n",
       "      <td>0.0</td>\n",
       "      <td>0.0</td>\n",
       "      <td>0.0</td>\n",
       "      <td>1.0</td>\n",
       "      <td>0.0</td>\n",
       "      <td>0.0</td>\n",
       "    </tr>\n",
       "    <tr>\n",
       "      <th>4421</th>\n",
       "      <td>2458.0</td>\n",
       "      <td>47.0</td>\n",
       "      <td>26.0</td>\n",
       "      <td>30.0</td>\n",
       "      <td>0.0</td>\n",
       "      <td>876.0</td>\n",
       "      <td>219.0</td>\n",
       "      <td>175.0</td>\n",
       "      <td>77.0</td>\n",
       "      <td>942.0</td>\n",
       "      <td>...</td>\n",
       "      <td>0.0</td>\n",
       "      <td>0.0</td>\n",
       "      <td>0.0</td>\n",
       "      <td>0.0</td>\n",
       "      <td>0.0</td>\n",
       "      <td>0.0</td>\n",
       "      <td>0.0</td>\n",
       "      <td>0.0</td>\n",
       "      <td>0.0</td>\n",
       "      <td>0.0</td>\n",
       "    </tr>\n",
       "    <tr>\n",
       "      <th>41734</th>\n",
       "      <td>3290.0</td>\n",
       "      <td>158.0</td>\n",
       "      <td>5.0</td>\n",
       "      <td>400.0</td>\n",
       "      <td>187.0</td>\n",
       "      <td>4174.0</td>\n",
       "      <td>226.0</td>\n",
       "      <td>241.0</td>\n",
       "      <td>149.0</td>\n",
       "      <td>1342.0</td>\n",
       "      <td>...</td>\n",
       "      <td>0.0</td>\n",
       "      <td>0.0</td>\n",
       "      <td>0.0</td>\n",
       "      <td>0.0</td>\n",
       "      <td>0.0</td>\n",
       "      <td>0.0</td>\n",
       "      <td>0.0</td>\n",
       "      <td>0.0</td>\n",
       "      <td>0.0</td>\n",
       "      <td>0.0</td>\n",
       "    </tr>\n",
       "    <tr>\n",
       "      <th>108401</th>\n",
       "      <td>2742.0</td>\n",
       "      <td>167.0</td>\n",
       "      <td>19.0</td>\n",
       "      <td>134.0</td>\n",
       "      <td>37.0</td>\n",
       "      <td>1537.0</td>\n",
       "      <td>232.0</td>\n",
       "      <td>243.0</td>\n",
       "      <td>134.0</td>\n",
       "      <td>2397.0</td>\n",
       "      <td>...</td>\n",
       "      <td>0.0</td>\n",
       "      <td>0.0</td>\n",
       "      <td>0.0</td>\n",
       "      <td>0.0</td>\n",
       "      <td>0.0</td>\n",
       "      <td>0.0</td>\n",
       "      <td>0.0</td>\n",
       "      <td>0.0</td>\n",
       "      <td>0.0</td>\n",
       "      <td>0.0</td>\n",
       "    </tr>\n",
       "  </tbody>\n",
       "</table>\n",
       "<p>10 rows × 54 columns</p>\n",
       "</div>"
      ],
      "text/plain": [
       "        elevation  aspect  slope  horizontal_distance_to_hydrology  \\\n",
       "72206      2919.0    35.0   17.0                              60.0   \n",
       "17302      2774.0   327.0   25.0                             297.0   \n",
       "20621      3326.0    11.0   15.0                             365.0   \n",
       "39840      2895.0    18.0   10.0                             108.0   \n",
       "1369       2361.0    68.0   13.0                             258.0   \n",
       "4279       2267.0   125.0   23.0                             150.0   \n",
       "65882      3265.0    18.0    4.0                             300.0   \n",
       "4421       2458.0    47.0   26.0                              30.0   \n",
       "41734      3290.0   158.0    5.0                             400.0   \n",
       "108401     2742.0   167.0   19.0                             134.0   \n",
       "\n",
       "        Vertical_Distance_To_Hydrology  Horizontal_Distance_To_Roadways  \\\n",
       "72206                              0.0                           5377.0   \n",
       "17302                            145.0                           1706.0   \n",
       "20621                             87.0                           3300.0   \n",
       "39840                              6.0                           4191.0   \n",
       "1369                              59.0                           1354.0   \n",
       "4279                              79.0                           1253.0   \n",
       "65882                             30.0                           4308.0   \n",
       "4421                               0.0                            876.0   \n",
       "41734                            187.0                           4174.0   \n",
       "108401                            37.0                           1537.0   \n",
       "\n",
       "        Hillshade_9am  Hillshade_Noon  Hillshade_3pm  \\\n",
       "72206           216.0           200.0          114.0   \n",
       "17302           152.0           204.0          187.0   \n",
       "20621           202.0           208.0          140.0   \n",
       "39840           212.0           219.0          143.0   \n",
       "1369            233.0           214.0          112.0   \n",
       "4279            251.0           216.0           79.0   \n",
       "65882           217.0           231.0          152.0   \n",
       "4421            219.0           175.0           77.0   \n",
       "41734           226.0           241.0          149.0   \n",
       "108401          232.0           243.0          134.0   \n",
       "\n",
       "        Horizontal_Distance_To_Fire_Points  ...  soil_type_31  soil_type_32  \\\n",
       "72206                               3997.0  ...           0.0           0.0   \n",
       "17302                               1419.0  ...           0.0           0.0   \n",
       "20621                               2382.0  ...           0.0           1.0   \n",
       "39840                               3032.0  ...           0.0           0.0   \n",
       "1369                                 319.0  ...           0.0           0.0   \n",
       "4279                                1045.0  ...           0.0           0.0   \n",
       "65882                                960.0  ...           0.0           0.0   \n",
       "4421                                 942.0  ...           0.0           0.0   \n",
       "41734                               1342.0  ...           0.0           0.0   \n",
       "108401                              2397.0  ...           0.0           0.0   \n",
       "\n",
       "        soil_type_33  soil_type_34  soil_type_35  soil_type_36  soil_type_37  \\\n",
       "72206            0.0           0.0           0.0           0.0           0.0   \n",
       "17302            0.0           0.0           0.0           0.0           0.0   \n",
       "20621            0.0           0.0           0.0           0.0           0.0   \n",
       "39840            0.0           0.0           0.0           0.0           0.0   \n",
       "1369             0.0           0.0           0.0           0.0           0.0   \n",
       "4279             0.0           0.0           0.0           0.0           0.0   \n",
       "65882            0.0           0.0           0.0           0.0           0.0   \n",
       "4421             0.0           0.0           0.0           0.0           0.0   \n",
       "41734            0.0           0.0           0.0           0.0           0.0   \n",
       "108401           0.0           0.0           0.0           0.0           0.0   \n",
       "\n",
       "        soil_type_38  soil_type_39  soil_type_40  \n",
       "72206            0.0           0.0           0.0  \n",
       "17302            0.0           0.0           0.0  \n",
       "20621            0.0           0.0           0.0  \n",
       "39840            0.0           0.0           0.0  \n",
       "1369             0.0           0.0           0.0  \n",
       "4279             0.0           0.0           0.0  \n",
       "65882            1.0           0.0           0.0  \n",
       "4421             0.0           0.0           0.0  \n",
       "41734            0.0           0.0           0.0  \n",
       "108401           0.0           0.0           0.0  \n",
       "\n",
       "[10 rows x 54 columns]"
      ]
     },
     "execution_count": 9,
     "metadata": {},
     "output_type": "execute_result"
    }
   ],
   "source": [
    "cover_df.sample(10)\n"
   ]
  },
  {
   "cell_type": "code",
   "execution_count": 10,
   "metadata": {},
   "outputs": [
    {
     "name": "stdout",
     "output_type": "stream",
     "text": [
      "['Lodgepole_Pine' 'Spruce_Fir' 'Spruce_Fir' ... 'Cottonwood_Willow'\n",
      " 'Cottonwood_Willow' 'Cottonwood_Willow']\n"
     ]
    }
   ],
   "source": [
    "print(covertype.target)\n"
   ]
  },
  {
   "cell_type": "code",
   "execution_count": 11,
   "metadata": {},
   "outputs": [],
   "source": [
    "from sklearn.preprocessing import LabelEncoder\n",
    "label_encoder = LabelEncoder().fit(covertype.target)"
   ]
  },
  {
   "cell_type": "code",
   "execution_count": 12,
   "metadata": {},
   "outputs": [
    {
     "name": "stdout",
     "output_type": "stream",
     "text": [
      "['Aspen' 'Cottonwood_Willow' 'Douglas_fir' 'Krummholz' 'Lodgepole_Pine'\n",
      " 'Ponderosa_Pine' 'Spruce_Fir']\n"
     ]
    }
   ],
   "source": [
    "print(label_encoder.classes_) \n"
   ]
  },
  {
   "cell_type": "code",
   "execution_count": 13,
   "metadata": {},
   "outputs": [],
   "source": [
    "cover_target = label_encoder.transform(covertype.target)\n"
   ]
  },
  {
   "cell_type": "code",
   "execution_count": 14,
   "metadata": {},
   "outputs": [
    {
     "name": "stdout",
     "output_type": "stream",
     "text": [
      "[4 6 6 ... 1 1 1]\n"
     ]
    }
   ],
   "source": [
    "print(cover_target)\n"
   ]
  },
  {
   "cell_type": "code",
   "execution_count": 15,
   "metadata": {},
   "outputs": [
    {
     "name": "stdout",
     "output_type": "stream",
     "text": [
      "(110393, 54)\n"
     ]
    }
   ],
   "source": [
    "print(cover_df.shape)\n"
   ]
  },
  {
   "cell_type": "code",
   "execution_count": 16,
   "metadata": {},
   "outputs": [],
   "source": [
    "from sklearn.model_selection import train_test_split\n"
   ]
  },
  {
   "cell_type": "code",
   "execution_count": 17,
   "metadata": {},
   "outputs": [],
   "source": [
    "df_train, df_test, y_train, y_test = train_test_split(cover_df, cover_target, test_size=0.15, stratify=cover_target)\n"
   ]
  },
  {
   "cell_type": "code",
   "execution_count": 18,
   "metadata": {},
   "outputs": [
    {
     "name": "stdout",
     "output_type": "stream",
     "text": [
      "['elevation', 'aspect', 'slope', 'horizontal_distance_to_hydrology', 'Vertical_Distance_To_Hydrology', 'Horizontal_Distance_To_Roadways', 'Hillshade_9am', 'Hillshade_Noon', 'Hillshade_3pm', 'Horizontal_Distance_To_Fire_Points']\n",
      "[0, 1, 2, 3, 4, 5, 6, 7, 8, 9]\n"
     ]
    }
   ],
   "source": [
    "to_normalize = [(i, col) for i, col in enumerate(cover_df.columns)\n",
    "                        if not col.startswith('wilderness_area') and not col.startswith('soil_type')]\n",
    "idx_to_normalize = [i for i,col in to_normalize] #номера столбцов\n",
    "columns_to_normalize = [col for i, col in to_normalize] #названия\n",
    "\n",
    "print(columns_to_normalize)\n",
    "print(idx_to_normalize)"
   ]
  },
  {
   "cell_type": "code",
   "execution_count": 19,
   "metadata": {},
   "outputs": [
    {
     "data": {
      "text/html": [
       "<div>\n",
       "<style scoped>\n",
       "    .dataframe tbody tr th:only-of-type {\n",
       "        vertical-align: middle;\n",
       "    }\n",
       "\n",
       "    .dataframe tbody tr th {\n",
       "        vertical-align: top;\n",
       "    }\n",
       "\n",
       "    .dataframe thead th {\n",
       "        text-align: right;\n",
       "    }\n",
       "</style>\n",
       "<table border=\"1\" class=\"dataframe\">\n",
       "  <thead>\n",
       "    <tr style=\"text-align: right;\">\n",
       "      <th></th>\n",
       "      <th>elevation</th>\n",
       "      <th>aspect</th>\n",
       "      <th>slope</th>\n",
       "      <th>horizontal_distance_to_hydrology</th>\n",
       "      <th>Vertical_Distance_To_Hydrology</th>\n",
       "      <th>Horizontal_Distance_To_Roadways</th>\n",
       "      <th>Hillshade_9am</th>\n",
       "      <th>Hillshade_Noon</th>\n",
       "      <th>Hillshade_3pm</th>\n",
       "      <th>Horizontal_Distance_To_Fire_Points</th>\n",
       "    </tr>\n",
       "  </thead>\n",
       "  <tbody>\n",
       "    <tr>\n",
       "      <th>18459</th>\n",
       "      <td>2581.0</td>\n",
       "      <td>166.0</td>\n",
       "      <td>8.0</td>\n",
       "      <td>228.0</td>\n",
       "      <td>41.0</td>\n",
       "      <td>968.0</td>\n",
       "      <td>227.0</td>\n",
       "      <td>243.0</td>\n",
       "      <td>149.0</td>\n",
       "      <td>497.0</td>\n",
       "    </tr>\n",
       "    <tr>\n",
       "      <th>82986</th>\n",
       "      <td>3189.0</td>\n",
       "      <td>40.0</td>\n",
       "      <td>12.0</td>\n",
       "      <td>240.0</td>\n",
       "      <td>-4.0</td>\n",
       "      <td>2639.0</td>\n",
       "      <td>221.0</td>\n",
       "      <td>213.0</td>\n",
       "      <td>124.0</td>\n",
       "      <td>1209.0</td>\n",
       "    </tr>\n",
       "    <tr>\n",
       "      <th>107385</th>\n",
       "      <td>2675.0</td>\n",
       "      <td>334.0</td>\n",
       "      <td>26.0</td>\n",
       "      <td>190.0</td>\n",
       "      <td>58.0</td>\n",
       "      <td>992.0</td>\n",
       "      <td>153.0</td>\n",
       "      <td>197.0</td>\n",
       "      <td>178.0</td>\n",
       "      <td>1828.0</td>\n",
       "    </tr>\n",
       "    <tr>\n",
       "      <th>46571</th>\n",
       "      <td>3195.0</td>\n",
       "      <td>37.0</td>\n",
       "      <td>20.0</td>\n",
       "      <td>268.0</td>\n",
       "      <td>46.0</td>\n",
       "      <td>1626.0</td>\n",
       "      <td>215.0</td>\n",
       "      <td>192.0</td>\n",
       "      <td>105.0</td>\n",
       "      <td>4653.0</td>\n",
       "    </tr>\n",
       "  </tbody>\n",
       "</table>\n",
       "</div>"
      ],
      "text/plain": [
       "        elevation  aspect  slope  horizontal_distance_to_hydrology  \\\n",
       "18459      2581.0   166.0    8.0                             228.0   \n",
       "82986      3189.0    40.0   12.0                             240.0   \n",
       "107385     2675.0   334.0   26.0                             190.0   \n",
       "46571      3195.0    37.0   20.0                             268.0   \n",
       "\n",
       "        Vertical_Distance_To_Hydrology  Horizontal_Distance_To_Roadways  \\\n",
       "18459                             41.0                            968.0   \n",
       "82986                             -4.0                           2639.0   \n",
       "107385                            58.0                            992.0   \n",
       "46571                             46.0                           1626.0   \n",
       "\n",
       "        Hillshade_9am  Hillshade_Noon  Hillshade_3pm  \\\n",
       "18459           227.0           243.0          149.0   \n",
       "82986           221.0           213.0          124.0   \n",
       "107385          153.0           197.0          178.0   \n",
       "46571           215.0           192.0          105.0   \n",
       "\n",
       "        Horizontal_Distance_To_Fire_Points  \n",
       "18459                                497.0  \n",
       "82986                               1209.0  \n",
       "107385                              1828.0  \n",
       "46571                               4653.0  "
      ]
     },
     "execution_count": 19,
     "metadata": {},
     "output_type": "execute_result"
    }
   ],
   "source": [
    "cover_df[columns_to_normalize].sample(4)\n"
   ]
  },
  {
   "cell_type": "code",
   "execution_count": 20,
   "metadata": {},
   "outputs": [],
   "source": [
    "from torch.utils.data import TensorDataset,DataLoader\n"
   ]
  },
  {
   "cell_type": "code",
   "execution_count": null,
   "metadata": {},
   "outputs": [],
   "source": []
  },
  {
   "cell_type": "code",
   "execution_count": 21,
   "metadata": {},
   "outputs": [],
   "source": [
    "tensor_train = torch.from_numpy(df_train.values).type(torch.FloatTensor)"
   ]
  },
  {
   "cell_type": "code",
   "execution_count": 22,
   "metadata": {},
   "outputs": [
    {
     "name": "stdout",
     "output_type": "stream",
     "text": [
      "tensor([[3.3940e+03, 1.3300e+02, 1.0000e+01, 6.0000e+02, 1.1000e+02, 1.3200e+03,\n",
      "         2.3700e+02, 2.3500e+02, 1.2800e+02, 2.7900e+03, 0.0000e+00, 0.0000e+00,\n",
      "         1.0000e+00, 0.0000e+00, 0.0000e+00, 0.0000e+00, 0.0000e+00, 0.0000e+00,\n",
      "         0.0000e+00, 0.0000e+00, 0.0000e+00, 0.0000e+00, 0.0000e+00, 0.0000e+00,\n",
      "         0.0000e+00, 0.0000e+00, 0.0000e+00, 0.0000e+00, 0.0000e+00, 0.0000e+00,\n",
      "         0.0000e+00, 0.0000e+00, 0.0000e+00, 0.0000e+00, 0.0000e+00, 0.0000e+00,\n",
      "         0.0000e+00, 0.0000e+00, 0.0000e+00, 0.0000e+00, 0.0000e+00, 0.0000e+00,\n",
      "         0.0000e+00, 0.0000e+00, 0.0000e+00, 1.0000e+00, 0.0000e+00, 0.0000e+00,\n",
      "         0.0000e+00, 0.0000e+00, 0.0000e+00, 0.0000e+00, 0.0000e+00, 0.0000e+00],\n",
      "        [2.4040e+03, 1.5800e+02, 1.5000e+01, 2.1800e+02, 6.3000e+01, 8.1200e+02,\n",
      "         2.3500e+02, 2.4100e+02, 1.3300e+02, 1.2530e+03, 0.0000e+00, 0.0000e+00,\n",
      "         1.0000e+00, 0.0000e+00, 0.0000e+00, 1.0000e+00, 0.0000e+00, 0.0000e+00,\n",
      "         0.0000e+00, 0.0000e+00, 0.0000e+00, 0.0000e+00, 0.0000e+00, 0.0000e+00,\n",
      "         0.0000e+00, 0.0000e+00, 0.0000e+00, 0.0000e+00, 0.0000e+00, 0.0000e+00,\n",
      "         0.0000e+00, 0.0000e+00, 0.0000e+00, 0.0000e+00, 0.0000e+00, 0.0000e+00,\n",
      "         0.0000e+00, 0.0000e+00, 0.0000e+00, 0.0000e+00, 0.0000e+00, 0.0000e+00,\n",
      "         0.0000e+00, 0.0000e+00, 0.0000e+00, 0.0000e+00, 0.0000e+00, 0.0000e+00,\n",
      "         0.0000e+00, 0.0000e+00, 0.0000e+00, 0.0000e+00, 0.0000e+00, 0.0000e+00],\n",
      "        [3.2790e+03, 2.5900e+02, 1.0000e+01, 5.1600e+02, 8.0000e+01, 5.9100e+02,\n",
      "         1.9600e+02, 2.4600e+02, 1.8900e+02, 1.2070e+03, 0.0000e+00, 1.0000e+00,\n",
      "         0.0000e+00, 0.0000e+00, 0.0000e+00, 0.0000e+00, 0.0000e+00, 0.0000e+00,\n",
      "         0.0000e+00, 0.0000e+00, 0.0000e+00, 0.0000e+00, 0.0000e+00, 0.0000e+00,\n",
      "         0.0000e+00, 0.0000e+00, 0.0000e+00, 0.0000e+00, 0.0000e+00, 0.0000e+00,\n",
      "         0.0000e+00, 0.0000e+00, 0.0000e+00, 0.0000e+00, 0.0000e+00, 0.0000e+00,\n",
      "         1.0000e+00, 0.0000e+00, 0.0000e+00, 0.0000e+00, 0.0000e+00, 0.0000e+00,\n",
      "         0.0000e+00, 0.0000e+00, 0.0000e+00, 0.0000e+00, 0.0000e+00, 0.0000e+00,\n",
      "         0.0000e+00, 0.0000e+00, 0.0000e+00, 0.0000e+00, 0.0000e+00, 0.0000e+00]])\n"
     ]
    }
   ],
   "source": [
    "print(tensor_train[:3])"
   ]
  },
  {
   "cell_type": "code",
   "execution_count": 23,
   "metadata": {},
   "outputs": [],
   "source": [
    "tensor_test = torch.from_numpy(df_test.values).type(torch.FloatTensor)\n"
   ]
  },
  {
   "cell_type": "code",
   "execution_count": 24,
   "metadata": {},
   "outputs": [],
   "source": [
    "train_mean = torch.mean(tensor_train[:,idx_to_normalize], dim=0)\n",
    "train_std = torch.std(tensor_train[:,idx_to_normalize], dim=0)"
   ]
  },
  {
   "cell_type": "code",
   "execution_count": 25,
   "metadata": {},
   "outputs": [
    {
     "name": "stdout",
     "output_type": "stream",
     "text": [
      "tensor([2957.7649,  155.2519,   14.0751,  269.3044,   46.4269, 2347.2168,\n",
      "         212.2506,  223.3878,  142.5058, 1979.3008]) tensor([ 280.2079,  111.7445,    7.4613,  212.2260,   57.9053, 1555.6742,\n",
      "          26.7833,   19.6405,   38.2346, 1321.4962])\n"
     ]
    }
   ],
   "source": [
    "print(train_mean, train_std)\n"
   ]
  },
  {
   "cell_type": "code",
   "execution_count": 26,
   "metadata": {},
   "outputs": [],
   "source": [
    "tensor_train[:,idx_to_normalize] -= train_mean\n",
    "tensor_train[:,idx_to_normalize] /= train_std\n",
    "tensor_test[:,idx_to_normalize] -= train_mean\n",
    "tensor_test[:,idx_to_normalize] /= train_std"
   ]
  },
  {
   "cell_type": "code",
   "execution_count": 27,
   "metadata": {
    "scrolled": true
   },
   "outputs": [
    {
     "name": "stdout",
     "output_type": "stream",
     "text": [
      "tensor([[ 1.5568, -0.1991, -0.5462,  1.5582,  1.0979, -0.6603,  0.9241,  0.5912,\n",
      "         -0.3794,  0.6135,  0.0000,  0.0000,  1.0000,  0.0000,  0.0000,  0.0000,\n",
      "          0.0000,  0.0000,  0.0000,  0.0000,  0.0000,  0.0000,  0.0000,  0.0000,\n",
      "          0.0000,  0.0000,  0.0000,  0.0000,  0.0000,  0.0000,  0.0000,  0.0000,\n",
      "          0.0000,  0.0000,  0.0000,  0.0000,  0.0000,  0.0000,  0.0000,  0.0000,\n",
      "          0.0000,  0.0000,  0.0000,  0.0000,  0.0000,  1.0000,  0.0000,  0.0000,\n",
      "          0.0000,  0.0000,  0.0000,  0.0000,  0.0000,  0.0000],\n",
      "        [-1.9763,  0.0246,  0.1240, -0.2417,  0.2862, -0.9868,  0.8494,  0.8967,\n",
      "         -0.2486, -0.5496,  0.0000,  0.0000,  1.0000,  0.0000,  0.0000,  1.0000,\n",
      "          0.0000,  0.0000,  0.0000,  0.0000,  0.0000,  0.0000,  0.0000,  0.0000,\n",
      "          0.0000,  0.0000,  0.0000,  0.0000,  0.0000,  0.0000,  0.0000,  0.0000,\n",
      "          0.0000,  0.0000,  0.0000,  0.0000,  0.0000,  0.0000,  0.0000,  0.0000,\n",
      "          0.0000,  0.0000,  0.0000,  0.0000,  0.0000,  0.0000,  0.0000,  0.0000,\n",
      "          0.0000,  0.0000,  0.0000,  0.0000,  0.0000,  0.0000],\n",
      "        [ 1.1464,  0.9284, -0.5462,  1.1624,  0.5798, -1.1289, -0.6067,  1.1513,\n",
      "          1.2160, -0.5844,  0.0000,  1.0000,  0.0000,  0.0000,  0.0000,  0.0000,\n",
      "          0.0000,  0.0000,  0.0000,  0.0000,  0.0000,  0.0000,  0.0000,  0.0000,\n",
      "          0.0000,  0.0000,  0.0000,  0.0000,  0.0000,  0.0000,  0.0000,  0.0000,\n",
      "          0.0000,  0.0000,  0.0000,  0.0000,  1.0000,  0.0000,  0.0000,  0.0000,\n",
      "          0.0000,  0.0000,  0.0000,  0.0000,  0.0000,  0.0000,  0.0000,  0.0000,\n",
      "          0.0000,  0.0000,  0.0000,  0.0000,  0.0000,  0.0000]])\n"
     ]
    }
   ],
   "source": [
    "print(tensor_train[:3])\n"
   ]
  },
  {
   "cell_type": "code",
   "execution_count": 28,
   "metadata": {
    "scrolled": true
   },
   "outputs": [],
   "source": [
    "y_train_tensor = torch.from_numpy(y_train).type(torch.LongTensor)\n",
    "y_test_tensor = torch.from_numpy(y_test).type(torch.LongTensor)"
   ]
  },
  {
   "cell_type": "code",
   "execution_count": 29,
   "metadata": {},
   "outputs": [],
   "source": [
    "train_ds = TensorDataset(tensor_train, y_train_tensor)\n",
    "test_ds = TensorDataset(tensor_test, y_test_tensor)"
   ]
  },
  {
   "cell_type": "code",
   "execution_count": 30,
   "metadata": {},
   "outputs": [
    {
     "name": "stdout",
     "output_type": "stream",
     "text": [
      "(tensor([ 0.8395,  0.8568, -0.5462,  0.7289,  0.1135,  2.3300, -0.5321,  1.2022,\n",
      "         1.1637,  0.4856,  1.0000,  0.0000,  0.0000,  0.0000,  0.0000,  0.0000,\n",
      "         0.0000,  0.0000,  0.0000,  0.0000,  0.0000,  0.0000,  0.0000,  0.0000,\n",
      "         0.0000,  0.0000,  0.0000,  0.0000,  0.0000,  0.0000,  0.0000,  0.0000,\n",
      "         0.0000,  0.0000,  0.0000,  1.0000,  0.0000,  0.0000,  0.0000,  0.0000,\n",
      "         0.0000,  0.0000,  0.0000,  0.0000,  0.0000,  0.0000,  0.0000,  0.0000,\n",
      "         0.0000,  0.0000,  0.0000,  0.0000,  0.0000,  0.0000]), tensor(4))\n"
     ]
    }
   ],
   "source": [
    "print(train_ds[400])\n"
   ]
  },
  {
   "cell_type": "code",
   "execution_count": 31,
   "metadata": {},
   "outputs": [],
   "source": [
    "train_loader = DataLoader(train_ds,batch_size=256, shuffle=True)\n",
    "test_loader = DataLoader(test_ds, batch_size=256)"
   ]
  },
  {
   "cell_type": "code",
   "execution_count": 32,
   "metadata": {
    "scrolled": false
   },
   "outputs": [
    {
     "name": "stdout",
     "output_type": "stream",
     "text": [
      "tensor([[ 1.0108,  0.3915, -0.5462,  ...,  0.0000,  0.0000,  0.0000],\n",
      "        [ 1.1714,  0.3289,  0.1240,  ...,  0.0000,  0.0000,  0.0000],\n",
      "        [ 0.4612,  0.7047, -0.6802,  ...,  0.0000,  0.0000,  0.0000],\n",
      "        ...,\n",
      "        [-1.0769, -0.0291, -0.8142,  ...,  0.0000,  0.0000,  0.0000],\n",
      "        [ 0.9466, -0.4676, -0.4121,  ...,  0.0000,  0.0000,  0.0000],\n",
      "        [ 0.7788, -0.9866, -1.2163,  ...,  0.0000,  0.0000,  0.0000]])\n",
      "tensor([6, 4, 6, 3, 4, 6, 5, 6, 4, 0, 4, 4, 6, 4, 6, 4, 4, 6, 5, 4, 4, 6, 6, 6,\n",
      "        4, 4, 6, 5, 6, 6, 6, 4, 6, 5, 3, 5, 6, 6, 4, 4, 4, 4, 6, 4, 6, 4, 4, 5,\n",
      "        4, 6, 6, 6, 6, 6, 6, 4, 4, 3, 4, 5, 5, 6, 5, 4, 6, 4, 6, 6, 6, 4, 4, 4,\n",
      "        4, 6, 4, 2, 6, 6, 4, 6, 4, 4, 0, 4, 6, 4, 4, 3, 4, 3, 6, 6, 4, 3, 6, 6,\n",
      "        6, 4, 6, 6, 6, 4, 4, 4, 4, 6, 4, 6, 4, 6, 4, 6, 6, 6, 5, 6, 4, 4, 4, 4,\n",
      "        4, 6, 3, 4, 4, 6, 4, 4, 5, 6, 6, 4, 4, 6, 5, 4, 5, 4, 6, 3, 4, 5, 4, 4,\n",
      "        4, 6, 6, 6, 4, 5, 6, 6, 5, 4, 6, 4, 4, 6, 6, 6, 6, 5, 4, 4, 6, 5, 4, 4,\n",
      "        6, 6, 6, 0, 2, 4, 6, 4, 6, 4, 6, 6, 4, 4, 6, 6, 4, 6, 4, 4, 6, 5, 2, 2,\n",
      "        2, 6, 6, 4, 4, 6, 4, 4, 6, 6, 4, 4, 2, 6, 2, 4, 4, 4, 6, 2, 6, 6, 6, 4,\n",
      "        6, 6, 0, 6, 6, 4, 4, 4, 6, 4, 5, 6, 5, 4, 4, 5, 3, 6, 6, 6, 4, 3, 4, 4,\n",
      "        6, 4, 6, 4, 4, 4, 1, 6, 4, 4, 4, 6, 6, 1, 3, 6])\n"
     ]
    }
   ],
   "source": [
    "for xx, yy in train_loader:\n",
    "    print(xx)\n",
    "    print(yy)\n",
    "    break"
   ]
  },
  {
   "cell_type": "code",
   "execution_count": 33,
   "metadata": {},
   "outputs": [],
   "source": [
    "def relu(x):\n",
    "    x[x<0] = 0\n",
    "    return x\n",
    "def loss(x,y):\n",
    "    f = torch.mean(torch.log(x[torch.arange(list(x.size())[0]), y]))\n",
    "    #print('loss_func :', f.item())\n",
    "    return f"
   ]
  },
  {
   "cell_type": "code",
   "execution_count": 36,
   "metadata": {},
   "outputs": [],
   "source": [
    "class NN:\n",
    "    def __init__(self, x, y):\n",
    "        self.input = x\n",
    "        self.weights1 = torch.rand(54,40) \n",
    "        self.weights2 = torch.rand(40,13) \n",
    "        self.weights3 = torch.rand(13,7)\n",
    "        self.b1 = torch.rand(1,40) \n",
    "        self.b2 = torch.rand(1,13)\n",
    "        self.b3 = torch.rand(1,7)\n",
    "        self.y = y\n",
    "        self.output = torch.zeros(y.shape)\n",
    "        self.backprop()\n",
    "    \n",
    "    def forward(self):\n",
    "        self.layer1 = relu(torch.add(torch.mm(self.input, self.weights1),self.b1))\n",
    "        self.layer2 = relu(torch.add(torch.mm(self.layer1, self.weights2),self.b2))\n",
    "        self.output = relu(torch.add(torch.mm(self.layer2, self.weights3),self.b3))\n",
    "        return self.output\n",
    "        \n",
    "    def backprop(self):\n",
    "        self.weights1 = torch.tensor(self.weights1, requires_grad=True)\n",
    "        self.weights2 = torch.tensor(self.weights2, requires_grad=True)\n",
    "        self.weights3 = torch.tensor(self.weights3, requires_grad=True)\n",
    "        self.b1 = torch.tensor(self.b1, requires_grad=True) \n",
    "        self.b2 = torch.tensor(self.b2, requires_grad=True)\n",
    "        self.b3 = torch.tensor(self.b3, requires_grad=True)\n",
    "        lr = 0.05\n",
    "        sigma = 0.02\n",
    "        l = 1\n",
    "        i = 0\n",
    "        while l>sigma:\n",
    "            i+=1\n",
    "            with torch.no_grad():\n",
    "                if self.weights1.grad is not None:\n",
    "                    self.weights1.grad.zero_()\n",
    "                if self.weights2.grad is not None:\n",
    "                    self.weights2.grad.zero_()\n",
    "                if self.weights3.grad is not None:\n",
    "                    self.weights3.grad.zero_()\n",
    "                if self.b1.grad is not None:\n",
    "                    self.b1.grad.zero_()\n",
    "                if self.b2.grad is not None:\n",
    "                    self.b2.grad.zero_()\n",
    "                if self.b3.grad is not None:\n",
    "                    self.b3.grad.zero_()\n",
    "                    \n",
    "            f = loss(self.forward(), self.y)\n",
    "            l = f.item()\n",
    "            if i % 100 == 0:\n",
    "                print(l)\n",
    "            f.backward()  \n",
    "            \n",
    "            with torch.no_grad():\n",
    "                self.weights1 -= lr * self.weights1.grad    \n",
    "                self.weights2 -= lr * self.weights2.grad\n",
    "                self.b1 -= lr * self.b1.grad   \n",
    "                self.b2 -= lr * self.b2.grad\n",
    "        print(l)"
   ]
  },
  {
   "cell_type": "code",
   "execution_count": 37,
   "metadata": {
    "scrolled": true
   },
   "outputs": [
    {
     "name": "stderr",
     "output_type": "stream",
     "text": [
      "C:\\Programs\\Anaconda3\\lib\\site-packages\\ipykernel_launcher.py:21: UserWarning: To copy construct from a tensor, it is recommended to use sourceTensor.clone().detach() or sourceTensor.clone().detach().requires_grad_(True), rather than torch.tensor(sourceTensor).\n",
      "C:\\Programs\\Anaconda3\\lib\\site-packages\\ipykernel_launcher.py:22: UserWarning: To copy construct from a tensor, it is recommended to use sourceTensor.clone().detach() or sourceTensor.clone().detach().requires_grad_(True), rather than torch.tensor(sourceTensor).\n",
      "C:\\Programs\\Anaconda3\\lib\\site-packages\\ipykernel_launcher.py:23: UserWarning: To copy construct from a tensor, it is recommended to use sourceTensor.clone().detach() or sourceTensor.clone().detach().requires_grad_(True), rather than torch.tensor(sourceTensor).\n",
      "C:\\Programs\\Anaconda3\\lib\\site-packages\\ipykernel_launcher.py:24: UserWarning: To copy construct from a tensor, it is recommended to use sourceTensor.clone().detach() or sourceTensor.clone().detach().requires_grad_(True), rather than torch.tensor(sourceTensor).\n",
      "C:\\Programs\\Anaconda3\\lib\\site-packages\\ipykernel_launcher.py:25: UserWarning: To copy construct from a tensor, it is recommended to use sourceTensor.clone().detach() or sourceTensor.clone().detach().requires_grad_(True), rather than torch.tensor(sourceTensor).\n",
      "C:\\Programs\\Anaconda3\\lib\\site-packages\\ipykernel_launcher.py:26: UserWarning: To copy construct from a tensor, it is recommended to use sourceTensor.clone().detach() or sourceTensor.clone().detach().requires_grad_(True), rather than torch.tensor(sourceTensor).\n"
     ]
    },
    {
     "name": "stdout",
     "output_type": "stream",
     "text": [
      "4.79804801940918\n",
      "4.544272422790527\n",
      "4.21949577331543\n",
      "3.6197073459625244\n",
      "3.1372687816619873\n",
      "2.7404797077178955\n",
      "2.3633453845977783\n",
      "1.9886140823364258\n",
      "1.611691951751709\n",
      "1.2219358682632446\n",
      "0.8092187643051147\n",
      "0.38604700565338135\n",
      "0.017216380685567856\n"
     ]
    }
   ],
   "source": [
    "net = NN(tensor_train, y_train_tensor)"
   ]
  },
  {
   "cell_type": "code",
   "execution_count": null,
   "metadata": {},
   "outputs": [],
   "source": []
  }
 ],
 "metadata": {
  "kernelspec": {
   "display_name": "Python 3",
   "language": "python",
   "name": "python3"
  },
  "language_info": {
   "codemirror_mode": {
    "name": "ipython",
    "version": 3
   },
   "file_extension": ".py",
   "mimetype": "text/x-python",
   "name": "python",
   "nbconvert_exporter": "python",
   "pygments_lexer": "ipython3",
   "version": "3.7.3"
  }
 },
 "nbformat": 4,
 "nbformat_minor": 2
}
