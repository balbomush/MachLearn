{
 "cells": [
  {
   "cell_type": "code",
   "execution_count": 1,
   "metadata": {},
   "outputs": [],
   "source": [
    "import torch\n"
   ]
  },
  {
   "cell_type": "code",
   "execution_count": 2,
   "metadata": {},
   "outputs": [
    {
     "name": "stdout",
     "output_type": "stream",
     "text": [
      "torch.arange(4):  tensor([0, 1, 2, 3])\n",
      "P[torch.arange(4), c]:  tensor([0.7734, 0.5093, 0.0610, 0.3826])\n",
      "1.1723309755325317\n"
     ]
    }
   ],
   "source": [
    "P = torch.tensor([[0.1955, 0.0311, 0.7734],\n",
    " [0.5093, 0.174, 0.3167],\n",
    " [0.1309, 0.061, 0.8081],\n",
    " [0.3826, 0.5054, 0.112]])\n",
    "\n",
    "c = torch.tensor([2,0,1,0], dtype=torch.long) #С учетом индексов, начинающихся с 0\n",
    "# Вектор от 0 до заданного числа\n",
    "print('torch.arange(4): ', torch.arange(4))\n",
    "# Мы можем индексировать тензоры списками или тензорами из целых чисел. Например tensor([5,9,1,2])[[0,3,0]] == tensor([5,2,5])\n",
    "# В случае с матрицами, мы можем индексировать их двумя списками индексов одинакового размера\n",
    "print('P[torch.arange(4), c]: ', P[torch.arange(4), c])\n",
    "L = -torch.mean(torch.log(P[torch.arange(4), c]))\n",
    "print(L.item())"
   ]
  },
  {
   "cell_type": "code",
   "execution_count": 3,
   "metadata": {},
   "outputs": [],
   "source": [
    "from sklearn.datasets import fetch_openml\n"
   ]
  },
  {
   "cell_type": "code",
   "execution_count": 4,
   "metadata": {},
   "outputs": [],
   "source": [
    "covertype = fetch_openml(data_id=180)\n"
   ]
  },
  {
   "cell_type": "code",
   "execution_count": 5,
   "metadata": {},
   "outputs": [
    {
     "name": "stdout",
     "output_type": "stream",
     "text": [
      "<class 'sklearn.utils.Bunch'> {'data': array([[2754.,  146.,    5., ...,    0.,    0.,    0.],\n",
      "       [3219.,   21.,    8., ...,    0.,    0.,    0.],\n",
      "       [2965.,  337.,   16., ...,    0.,    0.,    0.],\n",
      "       ...,\n",
      "       [2232.,  141.,   32., ...,    0.,    0.,    0.],\n",
      "       [2221.,  163.,   27., ...,    0.,    0.,    0.],\n",
      "       [2221.,  150.,   33., ...,    0.,    0.,    0.]]), 'target': array(['Lodgepole_Pine', 'Spruce_Fir', 'Spruce_Fir', ...,\n",
      "       'Cottonwood_Willow', 'Cottonwood_Willow', 'Cottonwood_Willow'],\n",
      "      dtype=object), 'feature_names': ['elevation', 'aspect', 'slope', 'horizontal_distance_to_hydrology', 'Vertical_Distance_To_Hydrology', 'Horizontal_Distance_To_Roadways', 'Hillshade_9am', 'Hillshade_Noon', 'Hillshade_3pm', 'Horizontal_Distance_To_Fire_Points', 'wilderness_area1', 'wilderness_area2', 'wilderness_area3', 'wilderness_area4', 'soil_type_1', 'soil_type_2', 'soil_type_3', 'soil_type_4', 'soil_type_5', 'soil_type_6', 'soil_type_7', 'soil_type_8', 'soil_type_9', 'soil_type_10', 'soil_type_11', 'soil_type_12', 'soil_type_13', 'soil_type_14', 'soil_type_15', 'soil_type_16', 'soil_type_17', 'soil_type_18', 'soil_type_19', 'soil_type_20', 'soil_type_21', 'soil_type_22', 'soil_type_23', 'soil_type_24', 'soil_type_25', 'soil_type_26', 'soil_type_27', 'soil_type_28', 'soil_type_29', 'soil_type_30', 'soil_type_31', 'soil_type_32', 'soil_type_33', 'soil_type_34', 'soil_type_35', 'soil_type_36', 'soil_type_37', 'soil_type_38', 'soil_type_39', 'soil_type_40'], 'DESCR': '**Author**: Jock A. Blackard, Dr. Denis J. Dean, Dr. Charles W. Anderson  \\n**Source**: Unknown\\n\\n**Note: This is a 19% subsample from the original UCI dataset (see version 4). The origin is currently not clear.**\\n\\n**Covertype**  \\nPredicting forest cover type from cartographic variables only (no remotely sensed data). The actual forest cover type for a given observation (30 x 30 meter cell) was determined from US Forest Service (USFS) Region 2 Resource Information System &#40;RIS&#41; data. Independent variables were derived from data originally obtained from US Geological Survey (USGS) and USFS data. Data is in raw form (not scaled) and contains binary (0 or 1) columns of data for qualitative independent variables (wilderness areas and soil types). \\n\\nThis study area includes four wilderness areas located in the Roosevelt National Forest of northern Colorado. These areas represent forests with minimal human-caused disturbances, so that existing forest cover types are more a result of ecological processes rather than forest management practices. \\n\\nSome background information for these four wilderness areas: Neota (area 2) probably has the highest mean elevational value of the 4 wilderness areas. Rawah (area 1) and Comanche Peak (area 3) would have a lower mean elevational value, while Cache la Poudre (area 4) would have the lowest mean elevational value. \\n\\nAs for primary major tree species in these areas, Neota would have spruce/fir (type 1), while Rawah and Comanche Peak would probably have lodgepole pine (type 2) as their primary species, followed by spruce/fir and aspen (type 5). Cache la Poudre would tend to have Ponderosa pine (type 3), Douglas-fir (type 6), and cottonwood/willow (type 4). \\n\\nThe Rawah and Comanche Peak areas would tend to be more typical of the overall dataset than either the Neota or Cache la Poudre, due to their assortment of tree species and range of predictive variable values (elevation, etc.) Cache la Poudre would probably be more unique than the others, due to its relatively low elevation range and species composition.\\n\\nAttribute Information:  \\nGiven is the attribute name, attribute type, the measurement unit and a brief description. The forest cover type is the classification problem. The order of this listing corresponds to the order of numerals along the rows of the database. \\n>\\nName / Data Type / Measurement / Description  \\nElevation / quantitative /meters / Elevation in meters  \\nAspect / quantitative / azimuth / Aspect in degrees azimuth  \\nSlope / quantitative / degrees / Slope in degrees  \\nHorizontal_Distance_To_Hydrology / quantitative / meters / Horz Dist to nearest surface water features  \\nVertical_Distance_To_Hydrology / quantitative / meters / Vert Dist to nearest surface water features  \\nHorizontal_Distance_To_Roadways / quantitative / meters / Horz Dist to nearest roadway  \\nHillshade_9am / quantitative / 0 to 255 index / Hillshade index at 9am, summer solstice  \\nHillshade_Noon / quantitative / 0 to 255 index / Hillshade index at noon, summer solstice  \\nHillshade_3pm / quantitative / 0 to 255 index / Hillshade index at 3pm, summer solstice  \\nHorizontal_Distance_To_Fire_Points / quantitative / meters / Horz Dist to nearest wildfire ignition points  \\nWilderness_Area (4 binary columns) / qualitative / 0 (absence) or 1 (presence) / Wilderness area designation  \\nSoil_Type (40 binary columns) / qualitative / 0 (absence) or 1 (presence) / Soil Type designation  \\nCover_Type (7 types) / integer / 1 to 7 / Forest Cover Type designation \\n\\n\\nRelevant Papers:  \\n- Blackard, Jock A. and Denis J. Dean. 2000. \"Comparative Accuracies of Artificial Neural Networks and Discriminant Analysis in Predicting Forest Cover Types from Cartographic Variables.\" Computers and Electronics in Agriculture 24(3):131-151. \\n- Blackard, Jock A. and Denis J. Dean. 1998. \"Comparative Accuracies of Neural Networks and Discriminant Analysis in Predicting Forest Cover Types from Cartographic Variables.\" Second Southern Forestry GIS Conference. University of Georgia. Athens, GA. Pages 189-199. \\n- Blackard, Jock A. 1998. \"Comparison of Neural Networks and Discriminant Analysis in Predicting Forest Cover Types.\" Ph.D. dissertation. Department of Forest Sciences. Colorado State University. Fort Collins, Colorado. 165 pages.\\n\\nDownloaded from openml.org.', 'details': {'id': '180', 'name': 'covertype', 'version': '1', 'format': 'ARFF', 'upload_date': '2014-04-23T13:14:37', 'licence': 'Public', 'url': 'https://www.openml.org/data/v1/download/3615/covertype.arff', 'file_id': '3615', 'default_target_attribute': 'class', 'version_label': '1', 'tag': ['study_10', 'uci'], 'visibility': 'public', 'status': 'active', 'processing_date': '2018-10-03 21:16:14', 'md5_checksum': '12c4ba2521efb9c92c1aeeee4c25e353'}, 'categories': {'soil_type_1': ['0', '1'], 'soil_type_2': ['0', '1'], 'soil_type_3': ['0', '1'], 'soil_type_4': ['0', '1'], 'soil_type_5': ['0', '1'], 'soil_type_6': ['0', '1'], 'soil_type_7': ['0', '1'], 'soil_type_8': ['0', '1'], 'soil_type_9': ['0', '1'], 'soil_type_10': ['0', '1'], 'soil_type_11': ['0', '1'], 'soil_type_12': ['0', '1'], 'soil_type_13': ['0', '1'], 'soil_type_14': ['0', '1'], 'soil_type_15': ['0', '1'], 'soil_type_16': ['0', '1'], 'soil_type_17': ['0', '1'], 'soil_type_18': ['0', '1'], 'soil_type_19': ['0', '1'], 'soil_type_20': ['0', '1'], 'soil_type_21': ['0', '1'], 'soil_type_22': ['0', '1'], 'soil_type_23': ['0', '1'], 'soil_type_24': ['0', '1'], 'soil_type_25': ['0', '1'], 'soil_type_26': ['0', '1'], 'soil_type_27': ['0', '1'], 'soil_type_28': ['0', '1'], 'soil_type_29': ['0', '1'], 'soil_type_30': ['0', '1'], 'soil_type_31': ['0', '1'], 'soil_type_32': ['0', '1'], 'soil_type_33': ['0', '1'], 'soil_type_34': ['0', '1'], 'soil_type_35': ['0', '1'], 'soil_type_36': ['0', '1'], 'soil_type_37': ['0', '1'], 'soil_type_38': ['0', '1'], 'soil_type_39': ['0', '1'], 'soil_type_40': ['0', '1']}, 'url': 'https://www.openml.org/d/180'}\n"
     ]
    }
   ],
   "source": [
    "print(type(covertype), covertype)\n"
   ]
  },
  {
   "cell_type": "code",
   "execution_count": 6,
   "metadata": {},
   "outputs": [],
   "source": [
    "import numpy as np # linear algebra\n",
    "import pandas as pd # data processing, CSV file I/O (e.g. pd.read_csv)"
   ]
  },
  {
   "cell_type": "code",
   "execution_count": 7,
   "metadata": {},
   "outputs": [],
   "source": [
    "cover_df = pd.DataFrame(data=covertype.data, columns=covertype.feature_names)"
   ]
  },
  {
   "cell_type": "code",
   "execution_count": 8,
   "metadata": {},
   "outputs": [
    {
     "data": {
      "text/html": [
       "<div>\n",
       "<style scoped>\n",
       "    .dataframe tbody tr th:only-of-type {\n",
       "        vertical-align: middle;\n",
       "    }\n",
       "\n",
       "    .dataframe tbody tr th {\n",
       "        vertical-align: top;\n",
       "    }\n",
       "\n",
       "    .dataframe thead th {\n",
       "        text-align: right;\n",
       "    }\n",
       "</style>\n",
       "<table border=\"1\" class=\"dataframe\">\n",
       "  <thead>\n",
       "    <tr style=\"text-align: right;\">\n",
       "      <th></th>\n",
       "      <th>elevation</th>\n",
       "      <th>aspect</th>\n",
       "      <th>slope</th>\n",
       "      <th>horizontal_distance_to_hydrology</th>\n",
       "      <th>Vertical_Distance_To_Hydrology</th>\n",
       "      <th>Horizontal_Distance_To_Roadways</th>\n",
       "      <th>Hillshade_9am</th>\n",
       "      <th>Hillshade_Noon</th>\n",
       "      <th>Hillshade_3pm</th>\n",
       "      <th>Horizontal_Distance_To_Fire_Points</th>\n",
       "      <th>...</th>\n",
       "      <th>soil_type_31</th>\n",
       "      <th>soil_type_32</th>\n",
       "      <th>soil_type_33</th>\n",
       "      <th>soil_type_34</th>\n",
       "      <th>soil_type_35</th>\n",
       "      <th>soil_type_36</th>\n",
       "      <th>soil_type_37</th>\n",
       "      <th>soil_type_38</th>\n",
       "      <th>soil_type_39</th>\n",
       "      <th>soil_type_40</th>\n",
       "    </tr>\n",
       "  </thead>\n",
       "  <tbody>\n",
       "    <tr>\n",
       "      <th>63770</th>\n",
       "      <td>2528.0</td>\n",
       "      <td>197.0</td>\n",
       "      <td>32.0</td>\n",
       "      <td>134.0</td>\n",
       "      <td>43.0</td>\n",
       "      <td>1101.0</td>\n",
       "      <td>193.0</td>\n",
       "      <td>246.0</td>\n",
       "      <td>165.0</td>\n",
       "      <td>1176.0</td>\n",
       "      <td>...</td>\n",
       "      <td>0.0</td>\n",
       "      <td>0.0</td>\n",
       "      <td>0.0</td>\n",
       "      <td>0.0</td>\n",
       "      <td>0.0</td>\n",
       "      <td>0.0</td>\n",
       "      <td>0.0</td>\n",
       "      <td>0.0</td>\n",
       "      <td>0.0</td>\n",
       "      <td>0.0</td>\n",
       "    </tr>\n",
       "    <tr>\n",
       "      <th>38680</th>\n",
       "      <td>3025.0</td>\n",
       "      <td>294.0</td>\n",
       "      <td>3.0</td>\n",
       "      <td>30.0</td>\n",
       "      <td>0.0</td>\n",
       "      <td>2385.0</td>\n",
       "      <td>211.0</td>\n",
       "      <td>238.0</td>\n",
       "      <td>165.0</td>\n",
       "      <td>3132.0</td>\n",
       "      <td>...</td>\n",
       "      <td>0.0</td>\n",
       "      <td>0.0</td>\n",
       "      <td>0.0</td>\n",
       "      <td>0.0</td>\n",
       "      <td>0.0</td>\n",
       "      <td>0.0</td>\n",
       "      <td>0.0</td>\n",
       "      <td>0.0</td>\n",
       "      <td>0.0</td>\n",
       "      <td>0.0</td>\n",
       "    </tr>\n",
       "    <tr>\n",
       "      <th>7096</th>\n",
       "      <td>3208.0</td>\n",
       "      <td>129.0</td>\n",
       "      <td>19.0</td>\n",
       "      <td>361.0</td>\n",
       "      <td>68.0</td>\n",
       "      <td>1167.0</td>\n",
       "      <td>247.0</td>\n",
       "      <td>225.0</td>\n",
       "      <td>98.0</td>\n",
       "      <td>1776.0</td>\n",
       "      <td>...</td>\n",
       "      <td>0.0</td>\n",
       "      <td>0.0</td>\n",
       "      <td>0.0</td>\n",
       "      <td>0.0</td>\n",
       "      <td>0.0</td>\n",
       "      <td>0.0</td>\n",
       "      <td>0.0</td>\n",
       "      <td>0.0</td>\n",
       "      <td>0.0</td>\n",
       "      <td>0.0</td>\n",
       "    </tr>\n",
       "    <tr>\n",
       "      <th>83537</th>\n",
       "      <td>2566.0</td>\n",
       "      <td>33.0</td>\n",
       "      <td>7.0</td>\n",
       "      <td>330.0</td>\n",
       "      <td>89.0</td>\n",
       "      <td>741.0</td>\n",
       "      <td>219.0</td>\n",
       "      <td>226.0</td>\n",
       "      <td>143.0</td>\n",
       "      <td>994.0</td>\n",
       "      <td>...</td>\n",
       "      <td>0.0</td>\n",
       "      <td>0.0</td>\n",
       "      <td>0.0</td>\n",
       "      <td>0.0</td>\n",
       "      <td>0.0</td>\n",
       "      <td>0.0</td>\n",
       "      <td>0.0</td>\n",
       "      <td>0.0</td>\n",
       "      <td>0.0</td>\n",
       "      <td>0.0</td>\n",
       "    </tr>\n",
       "    <tr>\n",
       "      <th>97444</th>\n",
       "      <td>2832.0</td>\n",
       "      <td>35.0</td>\n",
       "      <td>4.0</td>\n",
       "      <td>67.0</td>\n",
       "      <td>-3.0</td>\n",
       "      <td>2522.0</td>\n",
       "      <td>219.0</td>\n",
       "      <td>231.0</td>\n",
       "      <td>148.0</td>\n",
       "      <td>2282.0</td>\n",
       "      <td>...</td>\n",
       "      <td>0.0</td>\n",
       "      <td>0.0</td>\n",
       "      <td>0.0</td>\n",
       "      <td>0.0</td>\n",
       "      <td>0.0</td>\n",
       "      <td>0.0</td>\n",
       "      <td>0.0</td>\n",
       "      <td>0.0</td>\n",
       "      <td>0.0</td>\n",
       "      <td>0.0</td>\n",
       "    </tr>\n",
       "    <tr>\n",
       "      <th>68924</th>\n",
       "      <td>2299.0</td>\n",
       "      <td>264.0</td>\n",
       "      <td>38.0</td>\n",
       "      <td>153.0</td>\n",
       "      <td>92.0</td>\n",
       "      <td>342.0</td>\n",
       "      <td>100.0</td>\n",
       "      <td>225.0</td>\n",
       "      <td>247.0</td>\n",
       "      <td>1398.0</td>\n",
       "      <td>...</td>\n",
       "      <td>0.0</td>\n",
       "      <td>0.0</td>\n",
       "      <td>0.0</td>\n",
       "      <td>0.0</td>\n",
       "      <td>0.0</td>\n",
       "      <td>0.0</td>\n",
       "      <td>0.0</td>\n",
       "      <td>0.0</td>\n",
       "      <td>0.0</td>\n",
       "      <td>0.0</td>\n",
       "    </tr>\n",
       "    <tr>\n",
       "      <th>36069</th>\n",
       "      <td>3244.0</td>\n",
       "      <td>72.0</td>\n",
       "      <td>9.0</td>\n",
       "      <td>108.0</td>\n",
       "      <td>19.0</td>\n",
       "      <td>4283.0</td>\n",
       "      <td>231.0</td>\n",
       "      <td>223.0</td>\n",
       "      <td>125.0</td>\n",
       "      <td>2044.0</td>\n",
       "      <td>...</td>\n",
       "      <td>0.0</td>\n",
       "      <td>0.0</td>\n",
       "      <td>0.0</td>\n",
       "      <td>0.0</td>\n",
       "      <td>0.0</td>\n",
       "      <td>0.0</td>\n",
       "      <td>0.0</td>\n",
       "      <td>0.0</td>\n",
       "      <td>0.0</td>\n",
       "      <td>0.0</td>\n",
       "    </tr>\n",
       "    <tr>\n",
       "      <th>8386</th>\n",
       "      <td>3098.0</td>\n",
       "      <td>326.0</td>\n",
       "      <td>5.0</td>\n",
       "      <td>268.0</td>\n",
       "      <td>32.0</td>\n",
       "      <td>2277.0</td>\n",
       "      <td>206.0</td>\n",
       "      <td>234.0</td>\n",
       "      <td>166.0</td>\n",
       "      <td>2454.0</td>\n",
       "      <td>...</td>\n",
       "      <td>0.0</td>\n",
       "      <td>1.0</td>\n",
       "      <td>0.0</td>\n",
       "      <td>0.0</td>\n",
       "      <td>0.0</td>\n",
       "      <td>0.0</td>\n",
       "      <td>0.0</td>\n",
       "      <td>0.0</td>\n",
       "      <td>0.0</td>\n",
       "      <td>0.0</td>\n",
       "    </tr>\n",
       "    <tr>\n",
       "      <th>55554</th>\n",
       "      <td>2627.0</td>\n",
       "      <td>203.0</td>\n",
       "      <td>14.0</td>\n",
       "      <td>182.0</td>\n",
       "      <td>29.0</td>\n",
       "      <td>2300.0</td>\n",
       "      <td>212.0</td>\n",
       "      <td>252.0</td>\n",
       "      <td>171.0</td>\n",
       "      <td>1952.0</td>\n",
       "      <td>...</td>\n",
       "      <td>0.0</td>\n",
       "      <td>0.0</td>\n",
       "      <td>0.0</td>\n",
       "      <td>0.0</td>\n",
       "      <td>0.0</td>\n",
       "      <td>0.0</td>\n",
       "      <td>0.0</td>\n",
       "      <td>0.0</td>\n",
       "      <td>0.0</td>\n",
       "      <td>0.0</td>\n",
       "    </tr>\n",
       "    <tr>\n",
       "      <th>79668</th>\n",
       "      <td>2943.0</td>\n",
       "      <td>25.0</td>\n",
       "      <td>17.0</td>\n",
       "      <td>450.0</td>\n",
       "      <td>54.0</td>\n",
       "      <td>2486.0</td>\n",
       "      <td>209.0</td>\n",
       "      <td>201.0</td>\n",
       "      <td>124.0</td>\n",
       "      <td>1436.0</td>\n",
       "      <td>...</td>\n",
       "      <td>0.0</td>\n",
       "      <td>1.0</td>\n",
       "      <td>0.0</td>\n",
       "      <td>0.0</td>\n",
       "      <td>0.0</td>\n",
       "      <td>0.0</td>\n",
       "      <td>0.0</td>\n",
       "      <td>0.0</td>\n",
       "      <td>0.0</td>\n",
       "      <td>0.0</td>\n",
       "    </tr>\n",
       "  </tbody>\n",
       "</table>\n",
       "<p>10 rows × 54 columns</p>\n",
       "</div>"
      ],
      "text/plain": [
       "       elevation  aspect  slope  horizontal_distance_to_hydrology  \\\n",
       "63770     2528.0   197.0   32.0                             134.0   \n",
       "38680     3025.0   294.0    3.0                              30.0   \n",
       "7096      3208.0   129.0   19.0                             361.0   \n",
       "83537     2566.0    33.0    7.0                             330.0   \n",
       "97444     2832.0    35.0    4.0                              67.0   \n",
       "68924     2299.0   264.0   38.0                             153.0   \n",
       "36069     3244.0    72.0    9.0                             108.0   \n",
       "8386      3098.0   326.0    5.0                             268.0   \n",
       "55554     2627.0   203.0   14.0                             182.0   \n",
       "79668     2943.0    25.0   17.0                             450.0   \n",
       "\n",
       "       Vertical_Distance_To_Hydrology  Horizontal_Distance_To_Roadways  \\\n",
       "63770                            43.0                           1101.0   \n",
       "38680                             0.0                           2385.0   \n",
       "7096                             68.0                           1167.0   \n",
       "83537                            89.0                            741.0   \n",
       "97444                            -3.0                           2522.0   \n",
       "68924                            92.0                            342.0   \n",
       "36069                            19.0                           4283.0   \n",
       "8386                             32.0                           2277.0   \n",
       "55554                            29.0                           2300.0   \n",
       "79668                            54.0                           2486.0   \n",
       "\n",
       "       Hillshade_9am  Hillshade_Noon  Hillshade_3pm  \\\n",
       "63770          193.0           246.0          165.0   \n",
       "38680          211.0           238.0          165.0   \n",
       "7096           247.0           225.0           98.0   \n",
       "83537          219.0           226.0          143.0   \n",
       "97444          219.0           231.0          148.0   \n",
       "68924          100.0           225.0          247.0   \n",
       "36069          231.0           223.0          125.0   \n",
       "8386           206.0           234.0          166.0   \n",
       "55554          212.0           252.0          171.0   \n",
       "79668          209.0           201.0          124.0   \n",
       "\n",
       "       Horizontal_Distance_To_Fire_Points  ...  soil_type_31  soil_type_32  \\\n",
       "63770                              1176.0  ...           0.0           0.0   \n",
       "38680                              3132.0  ...           0.0           0.0   \n",
       "7096                               1776.0  ...           0.0           0.0   \n",
       "83537                               994.0  ...           0.0           0.0   \n",
       "97444                              2282.0  ...           0.0           0.0   \n",
       "68924                              1398.0  ...           0.0           0.0   \n",
       "36069                              2044.0  ...           0.0           0.0   \n",
       "8386                               2454.0  ...           0.0           1.0   \n",
       "55554                              1952.0  ...           0.0           0.0   \n",
       "79668                              1436.0  ...           0.0           1.0   \n",
       "\n",
       "       soil_type_33  soil_type_34  soil_type_35  soil_type_36  soil_type_37  \\\n",
       "63770           0.0           0.0           0.0           0.0           0.0   \n",
       "38680           0.0           0.0           0.0           0.0           0.0   \n",
       "7096            0.0           0.0           0.0           0.0           0.0   \n",
       "83537           0.0           0.0           0.0           0.0           0.0   \n",
       "97444           0.0           0.0           0.0           0.0           0.0   \n",
       "68924           0.0           0.0           0.0           0.0           0.0   \n",
       "36069           0.0           0.0           0.0           0.0           0.0   \n",
       "8386            0.0           0.0           0.0           0.0           0.0   \n",
       "55554           0.0           0.0           0.0           0.0           0.0   \n",
       "79668           0.0           0.0           0.0           0.0           0.0   \n",
       "\n",
       "       soil_type_38  soil_type_39  soil_type_40  \n",
       "63770           0.0           0.0           0.0  \n",
       "38680           0.0           0.0           0.0  \n",
       "7096            0.0           0.0           0.0  \n",
       "83537           0.0           0.0           0.0  \n",
       "97444           0.0           0.0           0.0  \n",
       "68924           0.0           0.0           0.0  \n",
       "36069           0.0           0.0           0.0  \n",
       "8386            0.0           0.0           0.0  \n",
       "55554           0.0           0.0           0.0  \n",
       "79668           0.0           0.0           0.0  \n",
       "\n",
       "[10 rows x 54 columns]"
      ]
     },
     "execution_count": 8,
     "metadata": {},
     "output_type": "execute_result"
    }
   ],
   "source": [
    "cover_df.sample(10)\n"
   ]
  },
  {
   "cell_type": "code",
   "execution_count": 9,
   "metadata": {},
   "outputs": [
    {
     "name": "stdout",
     "output_type": "stream",
     "text": [
      "['Lodgepole_Pine' 'Spruce_Fir' 'Spruce_Fir' ... 'Cottonwood_Willow'\n",
      " 'Cottonwood_Willow' 'Cottonwood_Willow']\n"
     ]
    }
   ],
   "source": [
    "print(covertype.target)\n"
   ]
  },
  {
   "cell_type": "code",
   "execution_count": 10,
   "metadata": {},
   "outputs": [],
   "source": [
    "from sklearn.preprocessing import LabelEncoder\n",
    "label_encoder = LabelEncoder().fit(covertype.target)"
   ]
  },
  {
   "cell_type": "code",
   "execution_count": 11,
   "metadata": {},
   "outputs": [
    {
     "name": "stdout",
     "output_type": "stream",
     "text": [
      "['Aspen' 'Cottonwood_Willow' 'Douglas_fir' 'Krummholz' 'Lodgepole_Pine'\n",
      " 'Ponderosa_Pine' 'Spruce_Fir']\n"
     ]
    }
   ],
   "source": [
    "print(label_encoder.classes_) \n"
   ]
  },
  {
   "cell_type": "code",
   "execution_count": 12,
   "metadata": {},
   "outputs": [],
   "source": [
    "cover_target = label_encoder.transform(covertype.target)\n"
   ]
  },
  {
   "cell_type": "code",
   "execution_count": 13,
   "metadata": {},
   "outputs": [
    {
     "name": "stdout",
     "output_type": "stream",
     "text": [
      "[4 6 6 ... 1 1 1]\n"
     ]
    }
   ],
   "source": [
    "print(cover_target)\n"
   ]
  },
  {
   "cell_type": "code",
   "execution_count": 14,
   "metadata": {},
   "outputs": [
    {
     "name": "stdout",
     "output_type": "stream",
     "text": [
      "(110393, 54)\n"
     ]
    }
   ],
   "source": [
    "print(cover_df.shape)\n"
   ]
  },
  {
   "cell_type": "code",
   "execution_count": 15,
   "metadata": {},
   "outputs": [],
   "source": [
    "from sklearn.model_selection import train_test_split\n"
   ]
  },
  {
   "cell_type": "code",
   "execution_count": 16,
   "metadata": {},
   "outputs": [],
   "source": [
    "df_train, df_test, y_train, y_test = train_test_split(cover_df, cover_target, test_size=0.15, stratify=cover_target)\n"
   ]
  },
  {
   "cell_type": "code",
   "execution_count": 17,
   "metadata": {},
   "outputs": [
    {
     "name": "stdout",
     "output_type": "stream",
     "text": [
      "['elevation', 'aspect', 'slope', 'horizontal_distance_to_hydrology', 'Vertical_Distance_To_Hydrology', 'Horizontal_Distance_To_Roadways', 'Hillshade_9am', 'Hillshade_Noon', 'Hillshade_3pm', 'Horizontal_Distance_To_Fire_Points']\n",
      "[0, 1, 2, 3, 4, 5, 6, 7, 8, 9]\n"
     ]
    }
   ],
   "source": [
    "to_normalize = [(i, col) for i, col in enumerate(cover_df.columns)\n",
    "                        if not col.startswith('wilderness_area') and not col.startswith('soil_type')]\n",
    "idx_to_normalize = [i for i,col in to_normalize] #номера столбцов\n",
    "columns_to_normalize = [col for i, col in to_normalize] #названия\n",
    "\n",
    "print(columns_to_normalize)\n",
    "print(idx_to_normalize)"
   ]
  },
  {
   "cell_type": "code",
   "execution_count": 18,
   "metadata": {},
   "outputs": [
    {
     "data": {
      "text/html": [
       "<div>\n",
       "<style scoped>\n",
       "    .dataframe tbody tr th:only-of-type {\n",
       "        vertical-align: middle;\n",
       "    }\n",
       "\n",
       "    .dataframe tbody tr th {\n",
       "        vertical-align: top;\n",
       "    }\n",
       "\n",
       "    .dataframe thead th {\n",
       "        text-align: right;\n",
       "    }\n",
       "</style>\n",
       "<table border=\"1\" class=\"dataframe\">\n",
       "  <thead>\n",
       "    <tr style=\"text-align: right;\">\n",
       "      <th></th>\n",
       "      <th>elevation</th>\n",
       "      <th>aspect</th>\n",
       "      <th>slope</th>\n",
       "      <th>horizontal_distance_to_hydrology</th>\n",
       "      <th>Vertical_Distance_To_Hydrology</th>\n",
       "      <th>Horizontal_Distance_To_Roadways</th>\n",
       "      <th>Hillshade_9am</th>\n",
       "      <th>Hillshade_Noon</th>\n",
       "      <th>Hillshade_3pm</th>\n",
       "      <th>Horizontal_Distance_To_Fire_Points</th>\n",
       "    </tr>\n",
       "  </thead>\n",
       "  <tbody>\n",
       "    <tr>\n",
       "      <th>65689</th>\n",
       "      <td>3397.0</td>\n",
       "      <td>37.0</td>\n",
       "      <td>9.0</td>\n",
       "      <td>765.0</td>\n",
       "      <td>207.0</td>\n",
       "      <td>1172.0</td>\n",
       "      <td>220.0</td>\n",
       "      <td>220.0</td>\n",
       "      <td>135.0</td>\n",
       "      <td>858.0</td>\n",
       "    </tr>\n",
       "    <tr>\n",
       "      <th>64144</th>\n",
       "      <td>2736.0</td>\n",
       "      <td>76.0</td>\n",
       "      <td>15.0</td>\n",
       "      <td>60.0</td>\n",
       "      <td>10.0</td>\n",
       "      <td>2442.0</td>\n",
       "      <td>237.0</td>\n",
       "      <td>211.0</td>\n",
       "      <td>101.0</td>\n",
       "      <td>4161.0</td>\n",
       "    </tr>\n",
       "    <tr>\n",
       "      <th>15279</th>\n",
       "      <td>3079.0</td>\n",
       "      <td>268.0</td>\n",
       "      <td>8.0</td>\n",
       "      <td>150.0</td>\n",
       "      <td>15.0</td>\n",
       "      <td>1489.0</td>\n",
       "      <td>199.0</td>\n",
       "      <td>243.0</td>\n",
       "      <td>184.0</td>\n",
       "      <td>1702.0</td>\n",
       "    </tr>\n",
       "    <tr>\n",
       "      <th>99060</th>\n",
       "      <td>2891.0</td>\n",
       "      <td>148.0</td>\n",
       "      <td>30.0</td>\n",
       "      <td>170.0</td>\n",
       "      <td>97.0</td>\n",
       "      <td>966.0</td>\n",
       "      <td>243.0</td>\n",
       "      <td>221.0</td>\n",
       "      <td>82.0</td>\n",
       "      <td>458.0</td>\n",
       "    </tr>\n",
       "  </tbody>\n",
       "</table>\n",
       "</div>"
      ],
      "text/plain": [
       "       elevation  aspect  slope  horizontal_distance_to_hydrology  \\\n",
       "65689     3397.0    37.0    9.0                             765.0   \n",
       "64144     2736.0    76.0   15.0                              60.0   \n",
       "15279     3079.0   268.0    8.0                             150.0   \n",
       "99060     2891.0   148.0   30.0                             170.0   \n",
       "\n",
       "       Vertical_Distance_To_Hydrology  Horizontal_Distance_To_Roadways  \\\n",
       "65689                           207.0                           1172.0   \n",
       "64144                            10.0                           2442.0   \n",
       "15279                            15.0                           1489.0   \n",
       "99060                            97.0                            966.0   \n",
       "\n",
       "       Hillshade_9am  Hillshade_Noon  Hillshade_3pm  \\\n",
       "65689          220.0           220.0          135.0   \n",
       "64144          237.0           211.0          101.0   \n",
       "15279          199.0           243.0          184.0   \n",
       "99060          243.0           221.0           82.0   \n",
       "\n",
       "       Horizontal_Distance_To_Fire_Points  \n",
       "65689                               858.0  \n",
       "64144                              4161.0  \n",
       "15279                              1702.0  \n",
       "99060                               458.0  "
      ]
     },
     "execution_count": 18,
     "metadata": {},
     "output_type": "execute_result"
    }
   ],
   "source": [
    "cover_df[columns_to_normalize].sample(4)\n"
   ]
  },
  {
   "cell_type": "code",
   "execution_count": 19,
   "metadata": {},
   "outputs": [],
   "source": [
    "from torch.utils.data import TensorDataset,DataLoader\n"
   ]
  },
  {
   "cell_type": "code",
   "execution_count": null,
   "metadata": {},
   "outputs": [],
   "source": []
  },
  {
   "cell_type": "code",
   "execution_count": 20,
   "metadata": {},
   "outputs": [],
   "source": [
    "tensor_train = torch.from_numpy(df_train.values).type(torch.FloatTensor)"
   ]
  },
  {
   "cell_type": "code",
   "execution_count": 21,
   "metadata": {},
   "outputs": [
    {
     "name": "stdout",
     "output_type": "stream",
     "text": [
      "tensor([[3.1720e+03, 1.0100e+02, 1.4000e+01, 2.4200e+02, 1.2000e+01, 5.2620e+03,\n",
      "         2.4300e+02, 2.2000e+02, 1.0300e+02, 2.8460e+03, 1.0000e+00, 0.0000e+00,\n",
      "         0.0000e+00, 0.0000e+00, 0.0000e+00, 0.0000e+00, 0.0000e+00, 0.0000e+00,\n",
      "         0.0000e+00, 0.0000e+00, 0.0000e+00, 0.0000e+00, 0.0000e+00, 0.0000e+00,\n",
      "         0.0000e+00, 0.0000e+00, 0.0000e+00, 0.0000e+00, 0.0000e+00, 0.0000e+00,\n",
      "         0.0000e+00, 0.0000e+00, 0.0000e+00, 0.0000e+00, 0.0000e+00, 0.0000e+00,\n",
      "         0.0000e+00, 0.0000e+00, 0.0000e+00, 0.0000e+00, 0.0000e+00, 0.0000e+00,\n",
      "         1.0000e+00, 0.0000e+00, 0.0000e+00, 0.0000e+00, 0.0000e+00, 0.0000e+00,\n",
      "         0.0000e+00, 0.0000e+00, 0.0000e+00, 0.0000e+00, 0.0000e+00, 0.0000e+00],\n",
      "        [3.2080e+03, 3.3400e+02, 1.3000e+01, 2.5800e+02, 4.0000e+01, 4.4140e+03,\n",
      "         1.9000e+02, 2.2200e+02, 1.7100e+02, 6.4100e+02, 0.0000e+00, 0.0000e+00,\n",
      "         1.0000e+00, 0.0000e+00, 0.0000e+00, 0.0000e+00, 0.0000e+00, 0.0000e+00,\n",
      "         0.0000e+00, 0.0000e+00, 0.0000e+00, 0.0000e+00, 0.0000e+00, 0.0000e+00,\n",
      "         0.0000e+00, 0.0000e+00, 0.0000e+00, 0.0000e+00, 0.0000e+00, 0.0000e+00,\n",
      "         0.0000e+00, 0.0000e+00, 0.0000e+00, 0.0000e+00, 0.0000e+00, 0.0000e+00,\n",
      "         0.0000e+00, 0.0000e+00, 0.0000e+00, 0.0000e+00, 0.0000e+00, 0.0000e+00,\n",
      "         0.0000e+00, 0.0000e+00, 0.0000e+00, 1.0000e+00, 0.0000e+00, 0.0000e+00,\n",
      "         0.0000e+00, 0.0000e+00, 0.0000e+00, 0.0000e+00, 0.0000e+00, 0.0000e+00],\n",
      "        [3.2790e+03, 2.2500e+02, 1.5000e+01, 8.8200e+02, 1.4400e+02, 7.3000e+02,\n",
      "         1.9800e+02, 2.5300e+02, 1.8900e+02, 2.7140e+03, 0.0000e+00, 0.0000e+00,\n",
      "         1.0000e+00, 0.0000e+00, 0.0000e+00, 0.0000e+00, 0.0000e+00, 0.0000e+00,\n",
      "         0.0000e+00, 0.0000e+00, 0.0000e+00, 0.0000e+00, 0.0000e+00, 0.0000e+00,\n",
      "         0.0000e+00, 0.0000e+00, 0.0000e+00, 0.0000e+00, 0.0000e+00, 0.0000e+00,\n",
      "         0.0000e+00, 0.0000e+00, 0.0000e+00, 0.0000e+00, 0.0000e+00, 0.0000e+00,\n",
      "         0.0000e+00, 0.0000e+00, 0.0000e+00, 0.0000e+00, 0.0000e+00, 0.0000e+00,\n",
      "         0.0000e+00, 0.0000e+00, 0.0000e+00, 1.0000e+00, 0.0000e+00, 0.0000e+00,\n",
      "         0.0000e+00, 0.0000e+00, 0.0000e+00, 0.0000e+00, 0.0000e+00, 0.0000e+00]])\n"
     ]
    }
   ],
   "source": [
    "print(tensor_train[:3])"
   ]
  },
  {
   "cell_type": "code",
   "execution_count": 22,
   "metadata": {},
   "outputs": [],
   "source": [
    "tensor_test = torch.from_numpy(df_test.values).type(torch.FloatTensor)\n"
   ]
  },
  {
   "cell_type": "code",
   "execution_count": 23,
   "metadata": {},
   "outputs": [],
   "source": [
    "train_mean = torch.mean(tensor_train[:,idx_to_normalize], dim=0)\n",
    "train_std = torch.std(tensor_train[:,idx_to_normalize], dim=0)"
   ]
  },
  {
   "cell_type": "code",
   "execution_count": 24,
   "metadata": {},
   "outputs": [
    {
     "name": "stdout",
     "output_type": "stream",
     "text": [
      "tensor([2958.3167,  155.4387,   14.0910,  270.0035,   46.6002, 2349.8159,\n",
      "         212.1770,  223.3990,  142.5916, 1982.4240]) tensor([ 279.8830,  111.8270,    7.4725,  212.3104,   58.1057, 1559.7756,\n",
      "          26.7996,   19.6617,   38.2819, 1324.9153])\n"
     ]
    }
   ],
   "source": [
    "print(train_mean, train_std)\n"
   ]
  },
  {
   "cell_type": "code",
   "execution_count": 25,
   "metadata": {},
   "outputs": [],
   "source": [
    "tensor_train[:,idx_to_normalize] -= train_mean\n",
    "tensor_train[:,idx_to_normalize] /= train_std\n",
    "tensor_test[:,idx_to_normalize] -= train_mean\n",
    "tensor_test[:,idx_to_normalize] /= train_std"
   ]
  },
  {
   "cell_type": "code",
   "execution_count": 26,
   "metadata": {
    "scrolled": true
   },
   "outputs": [
    {
     "name": "stdout",
     "output_type": "stream",
     "text": [
      "tensor([[ 0.7635, -0.4868, -0.0122, -0.1319, -0.5955,  1.8671,  1.1501, -0.1729,\n",
      "         -1.0342,  0.6518,  1.0000,  0.0000,  0.0000,  0.0000,  0.0000,  0.0000,\n",
      "          0.0000,  0.0000,  0.0000,  0.0000,  0.0000,  0.0000,  0.0000,  0.0000,\n",
      "          0.0000,  0.0000,  0.0000,  0.0000,  0.0000,  0.0000,  0.0000,  0.0000,\n",
      "          0.0000,  0.0000,  0.0000,  0.0000,  0.0000,  0.0000,  0.0000,  0.0000,\n",
      "          0.0000,  0.0000,  1.0000,  0.0000,  0.0000,  0.0000,  0.0000,  0.0000,\n",
      "          0.0000,  0.0000,  0.0000,  0.0000,  0.0000,  0.0000],\n",
      "        [ 0.8921,  1.5968, -0.1460, -0.0565, -0.1136,  1.3234, -0.8275, -0.0712,\n",
      "          0.7421, -1.0125,  0.0000,  0.0000,  1.0000,  0.0000,  0.0000,  0.0000,\n",
      "          0.0000,  0.0000,  0.0000,  0.0000,  0.0000,  0.0000,  0.0000,  0.0000,\n",
      "          0.0000,  0.0000,  0.0000,  0.0000,  0.0000,  0.0000,  0.0000,  0.0000,\n",
      "          0.0000,  0.0000,  0.0000,  0.0000,  0.0000,  0.0000,  0.0000,  0.0000,\n",
      "          0.0000,  0.0000,  0.0000,  0.0000,  0.0000,  1.0000,  0.0000,  0.0000,\n",
      "          0.0000,  0.0000,  0.0000,  0.0000,  0.0000,  0.0000],\n",
      "        [ 1.1458,  0.6220,  0.1216,  2.8826,  1.6763, -1.0385, -0.5290,  1.5055,\n",
      "          1.2123,  0.5522,  0.0000,  0.0000,  1.0000,  0.0000,  0.0000,  0.0000,\n",
      "          0.0000,  0.0000,  0.0000,  0.0000,  0.0000,  0.0000,  0.0000,  0.0000,\n",
      "          0.0000,  0.0000,  0.0000,  0.0000,  0.0000,  0.0000,  0.0000,  0.0000,\n",
      "          0.0000,  0.0000,  0.0000,  0.0000,  0.0000,  0.0000,  0.0000,  0.0000,\n",
      "          0.0000,  0.0000,  0.0000,  0.0000,  0.0000,  1.0000,  0.0000,  0.0000,\n",
      "          0.0000,  0.0000,  0.0000,  0.0000,  0.0000,  0.0000]])\n"
     ]
    }
   ],
   "source": [
    "print(tensor_train[:3])\n"
   ]
  },
  {
   "cell_type": "code",
   "execution_count": 27,
   "metadata": {
    "scrolled": true
   },
   "outputs": [],
   "source": [
    "y_train_tensor = torch.from_numpy(y_train).type(torch.LongTensor)\n",
    "y_test_tensor = torch.from_numpy(y_test).type(torch.LongTensor)"
   ]
  },
  {
   "cell_type": "code",
   "execution_count": 28,
   "metadata": {},
   "outputs": [],
   "source": [
    "train_ds = TensorDataset(tensor_train, y_train_tensor)\n",
    "test_ds = TensorDataset(tensor_test, y_test_tensor)"
   ]
  },
  {
   "cell_type": "code",
   "execution_count": 29,
   "metadata": {},
   "outputs": [
    {
     "name": "stdout",
     "output_type": "stream",
     "text": [
      "(tensor([-1.0444, -0.8177, -1.0828,  1.9829,  0.0069, -1.1020,  0.5158,  0.2340,\n",
      "        -0.1722, -0.2056,  1.0000,  0.0000,  0.0000,  0.0000,  0.0000,  0.0000,\n",
      "         0.0000,  0.0000,  0.0000,  0.0000,  0.0000,  0.0000,  0.0000,  0.0000,\n",
      "         0.0000,  0.0000,  0.0000,  0.0000,  0.0000,  0.0000,  0.0000,  0.0000,\n",
      "         0.0000,  0.0000,  0.0000,  0.0000,  0.0000,  0.0000,  0.0000,  0.0000,\n",
      "         0.0000,  0.0000,  1.0000,  0.0000,  0.0000,  0.0000,  0.0000,  0.0000,\n",
      "         0.0000,  0.0000,  0.0000,  0.0000,  0.0000,  0.0000]), tensor(4))\n"
     ]
    }
   ],
   "source": [
    "print(train_ds[400])\n"
   ]
  },
  {
   "cell_type": "code",
   "execution_count": 30,
   "metadata": {},
   "outputs": [],
   "source": [
    "train_loader = DataLoader(train_ds,batch_size=256, shuffle=True)\n",
    "test_loader = DataLoader(test_ds, batch_size=256)"
   ]
  },
  {
   "cell_type": "code",
   "execution_count": 31,
   "metadata": {
    "scrolled": false
   },
   "outputs": [
    {
     "name": "stdout",
     "output_type": "stream",
     "text": [
      "tensor([[-0.0333, -0.8177,  1.0584,  ...,  0.0000,  0.0000,  0.0000],\n",
      "        [ 0.7135,  0.4253, -0.0122,  ...,  0.0000,  0.0000,  0.0000],\n",
      "        [-0.7586,  1.5878, -0.9489,  ...,  0.0000,  0.0000,  0.0000],\n",
      "        ...,\n",
      "        [ 1.2315, -0.5584, -0.6813,  ...,  0.0000,  0.0000,  0.0000],\n",
      "        [ 1.0493,  1.3017, -0.5475,  ...,  0.0000,  0.0000,  0.0000],\n",
      "        [ 0.4419, -0.9876, -1.2166,  ...,  0.0000,  0.0000,  0.0000]])\n",
      "tensor([4, 6, 0, 6, 6, 6, 4, 5, 4, 4, 4, 4, 4, 6, 3, 2, 6, 4, 6, 4, 6, 6, 2, 4,\n",
      "        2, 2, 4, 5, 4, 4, 5, 6, 0, 6, 6, 2, 6, 4, 4, 6, 4, 1, 4, 4, 3, 4, 4, 5,\n",
      "        6, 3, 4, 6, 6, 4, 0, 4, 4, 6, 5, 2, 6, 4, 6, 6, 3, 6, 6, 4, 4, 6, 0, 4,\n",
      "        2, 6, 6, 4, 4, 4, 4, 6, 6, 6, 4, 3, 6, 3, 4, 6, 6, 6, 4, 6, 3, 6, 3, 3,\n",
      "        6, 4, 6, 6, 4, 6, 4, 4, 1, 6, 4, 2, 4, 6, 6, 4, 6, 6, 6, 6, 4, 4, 4, 6,\n",
      "        6, 4, 4, 6, 6, 3, 4, 6, 6, 6, 3, 4, 4, 6, 6, 3, 6, 6, 4, 4, 5, 4, 6, 4,\n",
      "        4, 4, 6, 4, 4, 4, 3, 5, 0, 5, 6, 6, 4, 6, 4, 4, 5, 4, 4, 3, 4, 4, 4, 4,\n",
      "        6, 5, 6, 6, 6, 6, 4, 5, 6, 4, 6, 6, 6, 4, 6, 4, 3, 6, 6, 4, 6, 4, 4, 1,\n",
      "        6, 4, 4, 6, 4, 4, 6, 6, 4, 4, 2, 6, 6, 4, 6, 6, 6, 4, 6, 4, 6, 4, 4, 4,\n",
      "        6, 4, 4, 6, 0, 4, 4, 4, 4, 4, 4, 6, 5, 4, 6, 6, 4, 4, 4, 6, 4, 3, 6, 4,\n",
      "        6, 4, 6, 4, 4, 5, 4, 6, 2, 6, 4, 6, 1, 6, 6, 6])\n"
     ]
    }
   ],
   "source": [
    "for xx, yy in train_loader:\n",
    "    print(xx)\n",
    "    print(yy)\n",
    "    break"
   ]
  },
  {
   "cell_type": "code",
   "execution_count": 76,
   "metadata": {},
   "outputs": [],
   "source": [
    "from sklearn import metrics\n"
   ]
  },
  {
   "cell_type": "code",
   "execution_count": 111,
   "metadata": {},
   "outputs": [],
   "source": [
    "class NN:\n",
    "    \n",
    "    def __init__(self,count):\n",
    "        self.input_l = torch.randn(54, count)\n",
    "        self.output_l = torch.randn(count, 7)\n",
    "        self.b_1 = torch.randn(count)\n",
    "        self.b_2 = torch.randn(7)\n",
    "        \n",
    "    def fit(self, epoch, train_loader):\n",
    "        lr = 0.001\n",
    "        self.input_l.requires_grad_(True)\n",
    "        self.output_l.requires_grad_(True)\n",
    "        self.b_1.requires_grad_(True)\n",
    "        self.b_2.requires_grad_(True)\n",
    "        for i in range(epoch):\n",
    "            for xx, yy in train_loader:\n",
    "                if self.input_l.grad is not None:\n",
    "                    self.input_l.grad.zero_()\n",
    "                if self.output_l.grad is not None:\n",
    "                    self.output_l.grad.zero_()\n",
    "                if self.b_1.grad is not None:\n",
    "                    self.b_1.grad.zero_()\n",
    "                if self.b_2.grad is not None:\n",
    "                    self.b_2.grad.zero_()\n",
    "                ho = xx.matmul(self.input_l) + self.b_1\n",
    "                ho = ho.relu()\n",
    "                ol = ho.matmul(self.output_l) + self.b_2\n",
    "                ol = ol.log_softmax(dim = 1)\n",
    "                J = -(1/len(xx))*ol[torch.arange(len(xx)),yy].sum()\n",
    "                J.backward()\n",
    "                with torch.no_grad():\n",
    "                    self.input_l -= lr*self.input_l.grad\n",
    "                    self.output_l -= lr*self.output_l.grad\n",
    "                    self.b_1 -= lr*self.b_1.grad\n",
    "                    self.b_2 -= lr*self.b_2.grad\n",
    "            if i % 10 == 0:\n",
    "                print(i,J)\n",
    "        print(epoch, J)\n",
    "            \n",
    "    def accuracy(self, xx, yy):\n",
    "            ho = xx.matmul(self.input_l) + self.b_1\n",
    "            ho = ho.relu() \n",
    "            ol = ho.matmul(self.output_l) + self.b_2 \n",
    "            ol = ol.log_softmax(dim = 1)\n",
    "            r = ol.argmax(1)\n",
    "            print(metrics.accuracy_score(r, yy))"
   ]
  },
  {
   "cell_type": "code",
   "execution_count": 112,
   "metadata": {
    "scrolled": true
   },
   "outputs": [
    {
     "name": "stdout",
     "output_type": "stream",
     "text": [
      "0 tensor(12.2657, grad_fn=<MulBackward0>)\n",
      "10 tensor(4.4915, grad_fn=<MulBackward0>)\n",
      "20 tensor(3.7824, grad_fn=<MulBackward0>)\n",
      "30 tensor(2.5833, grad_fn=<MulBackward0>)\n",
      "40 tensor(2.1788, grad_fn=<MulBackward0>)\n",
      "50 tensor(3.1068, grad_fn=<MulBackward0>)\n",
      "60 tensor(2.9905, grad_fn=<MulBackward0>)\n",
      "70 tensor(1.5838, grad_fn=<MulBackward0>)\n",
      "80 tensor(1.8689, grad_fn=<MulBackward0>)\n",
      "90 tensor(2.3186, grad_fn=<MulBackward0>)\n",
      "100 tensor(2.0452, grad_fn=<MulBackward0>)\n",
      "110 tensor(1.7352, grad_fn=<MulBackward0>)\n",
      "120 tensor(2.0978, grad_fn=<MulBackward0>)\n",
      "130 tensor(2.2121, grad_fn=<MulBackward0>)\n",
      "140 tensor(1.8081, grad_fn=<MulBackward0>)\n",
      "150 tensor(2.0111, grad_fn=<MulBackward0>)\n",
      "160 tensor(2.2724, grad_fn=<MulBackward0>)\n",
      "170 tensor(1.5624, grad_fn=<MulBackward0>)\n",
      "180 tensor(1.6489, grad_fn=<MulBackward0>)\n",
      "190 tensor(1.2406, grad_fn=<MulBackward0>)\n",
      "200 tensor(1.4220, grad_fn=<MulBackward0>)\n"
     ]
    }
   ],
   "source": [
    "net = NN(200)\n",
    "net.fit(200, train_loader)"
   ]
  },
  {
   "cell_type": "code",
   "execution_count": 113,
   "metadata": {
    "scrolled": false
   },
   "outputs": [
    {
     "name": "stdout",
     "output_type": "stream",
     "text": [
      "0.6443021921613624\n"
     ]
    }
   ],
   "source": [
    "net.accuracy(tensor_test, y_test_tensor)"
   ]
  },
  {
   "cell_type": "code",
   "execution_count": null,
   "metadata": {},
   "outputs": [],
   "source": []
  },
  {
   "cell_type": "code",
   "execution_count": null,
   "metadata": {},
   "outputs": [],
   "source": []
  }
 ],
 "metadata": {
  "kernelspec": {
   "display_name": "Python 3",
   "language": "python",
   "name": "python3"
  },
  "language_info": {
   "codemirror_mode": {
    "name": "ipython",
    "version": 3
   },
   "file_extension": ".py",
   "mimetype": "text/x-python",
   "name": "python",
   "nbconvert_exporter": "python",
   "pygments_lexer": "ipython3",
   "version": "3.7.3"
  }
 },
 "nbformat": 4,
 "nbformat_minor": 2
}
